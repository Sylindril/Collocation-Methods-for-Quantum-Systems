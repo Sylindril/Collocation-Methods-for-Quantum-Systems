{
 "cells": [
  {
   "cell_type": "code",
   "execution_count": 1,
   "metadata": {},
   "outputs": [
    {
     "name": "stdout",
     "output_type": "stream",
     "text": [
      "Hello World\n"
     ]
    }
   ],
   "source": [
    "import numpy as np\n",
    "from scipy import *\n",
    "from scipy import optimize\n",
    "from matplotlib import rc\n",
    "from scipy.special import factorial\n",
    "import matplotlib.pyplot as plt\n",
    "from minresScipy import *\n",
    "from utils import *\n",
    "import math\n",
    "\n",
    "rc('font', **{'family': 'serif', 'serif': ['Computer Modern'], 'size': 14})\n",
    "rc('text', usetex=True)\n",
    "print(\"Hello World\")\n",
    "sigma_n = 8\n",
    "sigma_lower = 0\n",
    "sigma_upper = 10\n",
    "\n",
    "maxit = 200000\n",
    "dropped_elements = 3\n",
    "\n",
    "\n",
    "# Maximum vibrational quantum number to calculate wavefunction for\n",
    "VMAX = 16\n",
    "#Number of points to sample\n",
    "POINTS_NUM = 15"
   ]
  },
  {
   "cell_type": "markdown",
   "metadata": {},
   "source": [
    "The general formula is - \n",
    "1. Create Hamiltonian, and solve it to obtain wavefunctions\n",
    "2. Create B and B'' and hence C\n",
    "3. Create U from V\n",
    "4. Create Hamiltonian, and use it as the matrix in the `MINRES+` solver"
   ]
  },
  {
   "cell_type": "markdown",
   "metadata": {},
   "source": [
    "# 1D Simple Harmonic Oscillator"
   ]
  },
  {
   "cell_type": "code",
   "execution_count": null,
   "metadata": {},
   "outputs": [],
   "source": []
  },
  {
   "cell_type": "code",
   "execution_count": null,
   "metadata": {},
   "outputs": [],
   "source": []
  }
 ],
 "metadata": {
  "kernelspec": {
   "display_name": "Python 3",
   "language": "python",
   "name": "python3"
  },
  "language_info": {
   "codemirror_mode": {
    "name": "ipython",
    "version": 3
   },
   "file_extension": ".py",
   "mimetype": "text/x-python",
   "name": "python",
   "nbconvert_exporter": "python",
   "pygments_lexer": "ipython3",
   "version": "3.10.5"
  }
 },
 "nbformat": 4,
 "nbformat_minor": 2
}
