{
 "cells": [
  {
   "cell_type": "markdown",
   "id": "887565a0",
   "metadata": {},
   "source": [
    "# Wavefunctions and eigenenergies for a quantum Morse oscillator - Numerical\n"
   ]
  },
  {
   "cell_type": "markdown",
   "id": "03399724",
   "metadata": {},
   "source": [
    "Robert Johansson (robert@riken.jp)"
   ]
  },
  {
   "cell_type": "code",
   "execution_count": 30,
   "id": "39213439",
   "metadata": {
    "collapsed": false,
    "jupyter": {
     "outputs_hidden": false
    }
   },
   "outputs": [
    {
     "name": "stdout",
     "output_type": "stream",
     "text": [
      "%pylab is deprecated, use %matplotlib inline and import the required libraries.\n",
      "Populating the interactive namespace from numpy and matplotlib\n"
     ]
    },
    {
     "name": "stderr",
     "output_type": "stream",
     "text": [
      "c:\\Users\\Adity\\AppData\\Local\\Programs\\Python\\Python310\\lib\\site-packages\\IPython\\core\\magics\\pylab.py:162: UserWarning: pylab import has clobbered these variables: ['matrix', 'show_config', 'fft', 'rc', 'e', 'axes', '__version__', 'norm', 'linalg']\n",
      "`%matplotlib` prevents importing * from pylab and numpy\n",
      "  warn(\"pylab import has clobbered these variables: %s\"  % clobbered +\n"
     ]
    }
   ],
   "source": [
    "%pylab inline"
   ]
  },
  {
   "cell_type": "code",
   "execution_count": 31,
   "id": "72ecfa86",
   "metadata": {
    "collapsed": false,
    "jupyter": {
     "outputs_hidden": false
    }
   },
   "outputs": [
    {
     "name": "stdout",
     "output_type": "stream",
     "text": [
      "Hello World\n"
     ]
    }
   ],
   "source": [
    "from scipy import *\n",
    "import math\n",
    "from scipy import optimize\n",
    "from numpy import pi, exp, linspace\n",
    "import numpy as np\n",
    "from matplotlib import rc\n",
    "from scipy.special import factorial\n",
    "import matplotlib.pyplot as plt\n",
    "from minresScipy import *\n",
    "from utils import *\n",
    "from wavefunction1d import *\n",
    "from matrix_generate import *\n",
    "from matrix_recast import *\n",
    "rc('font', **{'family': 'serif', 'serif': ['Computer Modern'], 'size': 14})\n",
    "rc('text', usetex=True)\n",
    "print(\"Hello World\")\n"
   ]
  },
  {
   "cell_type": "code",
   "execution_count": 32,
   "id": "a51bf65f",
   "metadata": {
    "collapsed": false,
    "jupyter": {
     "outputs_hidden": false
    }
   },
   "outputs": [],
   "source": [
    "sigma_n = 8\n",
    "sigma_lower = 0\n",
    "sigma_upper = 10\n",
    "\n",
    "maxit = 200000\n",
    "dropped_elements = 3\n",
    "\n",
    "\n",
    "#Number of points to sample\n",
    "POINTS_NUM = 8"
   ]
  },
  {
   "cell_type": "markdown",
   "id": "f6cae71b",
   "metadata": {},
   "source": [
    "## Problem parameters"
   ]
  },
  {
   "cell_type": "code",
   "execution_count": 33,
   "id": "100a4df9",
   "metadata": {
    "collapsed": false,
    "jupyter": {
     "outputs_hidden": false
    }
   },
   "outputs": [],
   "source": [
    "h = 6.626e-34\n",
    "h = 1\n",
    "h_ = h/(2*pi)\n",
    "e = 1.602e-19\n",
    "cf = 1          # if cf = h_, use units where h_ = 1\n",
    "\n",
    "mm = 1          # oscillator mass\n",
    "omega = 2 * pi  # oscillator frequency in GHz\n",
    "x0 = 0          # shift in oscillator potiential minimum\n",
    "\n",
    "D = 5.0\n",
    "b = 0.5\n",
    "\n",
    "args = {'D': D, 'b': b}\n",
    "\n",
    "k = -h_ ** 2 / (2 * mm)\n",
    "\n",
    "x_min = -pi\n",
    "x_max =  pi\n",
    "N = POINTS_NUM * 2\n",
    "NN = POINTS_NUM * 2"
   ]
  },
  {
   "cell_type": "markdown",
   "id": "448fc573",
   "metadata": {},
   "source": [
    "## Potential"
   ]
  },
  {
   "cell_type": "code",
   "execution_count": 34,
   "id": "331bf2b3",
   "metadata": {
    "collapsed": false,
    "jupyter": {
     "outputs_hidden": false
    }
   },
   "outputs": [],
   "source": [
    "def U_morse(x, args):\n",
    "    \"\"\"\n",
    "    Morse oscillator potential\n",
    "    \"\"\"\n",
    "    \n",
    "    D = args['D']\n",
    "    b = args['b']\n",
    "    \n",
    "    u = D * (1 - exp(-b*x)) ** 2\n",
    "\n",
    "    return u"
   ]
  },
  {
   "cell_type": "markdown",
   "id": "d67fe615",
   "metadata": {},
   "source": [
    "### Find the minimum point for the potential"
   ]
  },
  {
   "cell_type": "code",
   "execution_count": 35,
   "id": "1b81794b",
   "metadata": {
    "collapsed": false,
    "jupyter": {
     "outputs_hidden": false
    }
   },
   "outputs": [],
   "source": [
    "x = linspace(x_min, x_max, N)"
   ]
  },
  {
   "cell_type": "code",
   "execution_count": 36,
   "id": "63dc066e",
   "metadata": {
    "collapsed": false,
    "jupyter": {
     "outputs_hidden": false
    }
   },
   "outputs": [
    {
     "name": "stdout",
     "output_type": "stream",
     "text": [
      "Optimization terminated successfully.\n",
      "         Current function value: 0.000000\n",
      "         Iterations: 3\n",
      "         Function evaluations: 6\n"
     ]
    }
   ],
   "source": [
    "U = U_morse(x, args);\n",
    "\n",
    "x_opt_min = optimize.fmin(U_morse, [0.0], (args,))"
   ]
  },
  {
   "cell_type": "code",
   "execution_count": 37,
   "id": "bd23a31c",
   "metadata": {
    "collapsed": false,
    "jupyter": {
     "outputs_hidden": false
    }
   },
   "outputs": [
    {
     "name": "stdout",
     "output_type": "stream",
     "text": [
      "Found potential minima at = 0.000000\n"
     ]
    }
   ],
   "source": [
    "print(\"Found potential minima at = %f\" % x_opt_min)"
   ]
  },
  {
   "cell_type": "markdown",
   "id": "577dea1f",
   "metadata": {},
   "source": [
    "### Plot the potential"
   ]
  },
  {
   "cell_type": "code",
   "execution_count": 38,
   "id": "5b2b26af",
   "metadata": {
    "collapsed": false,
    "jupyter": {
     "outputs_hidden": false
    }
   },
   "outputs": [
    {
     "data": {
      "image/png": "[encoded data removed]",
      "text/plain": [
       "<Figure size 432x288 with 1 Axes>"
      ]
     },
     "metadata": {
      "needs_background": "light"
     },
     "output_type": "display_data"
    }
   ],
   "source": [
    "fig, ax = subplots()\n",
    "\n",
    "ax.plot(x, U)\n",
    "ax.plot(x_opt_min, U_morse(x_opt_min, args), 'o')\n",
    "\n",
    "#ax.set_ylim(-10, 80)\n",
    "ax.set_xlabel(r'$x$', fontsize=18)\n",
    "ax.set_ylabel(r'$U(x)$', fontsize=18);"
   ]
  },
  {
   "cell_type": "markdown",
   "id": "9933c57c",
   "metadata": {},
   "source": [
    "## Eigenstates and eigenvalues"
   ]
  },
  {
   "cell_type": "code",
   "execution_count": 39,
   "id": "6eb198bb",
   "metadata": {
    "collapsed": false,
    "jupyter": {
     "outputs_hidden": false
    }
   },
   "outputs": [
    {
     "name": "stdout",
     "output_type": "stream",
     "text": [
      "(16, 16)\n"
     ]
    }
   ],
   "source": [
    "u = assemble_u_potential(N, U_morse, x, args)\n",
    "\n",
    "K = assemble_K(N, k, x_min, x_max)\n",
    "\n",
    "V = assemble_V(N, u, x_min, x_max)\n",
    "\n",
    "H = K + V\n",
    "\n",
    "evals, evecs = solve_eigenproblem(H)\n",
    "print(evecs.shape)"
   ]
  },
  {
   "cell_type": "code",
   "execution_count": 40,
   "id": "1f30985b",
   "metadata": {},
   "outputs": [
    {
     "name": "stdout",
     "output_type": "stream",
     "text": [
      "(16,)\n",
      "(16,)\n"
     ]
    }
   ],
   "source": [
    "print(evecs[1].shape)\n",
    "print(x.shape)"
   ]
  },
  {
   "cell_type": "code",
   "execution_count": 41,
   "id": "ff669dfe",
   "metadata": {
    "collapsed": false,
    "jupyter": {
     "outputs_hidden": false
    }
   },
   "outputs": [
    {
     "name": "stdout",
     "output_type": "stream",
     "text": [
      "(16,)\n",
      "(16,)\n",
      "(16,)\n",
      "(16,)\n",
      "(16,)\n",
      "(16,)\n",
      "(16,)\n"
     ]
    },
    {
     "name": "stdout",
     "output_type": "stream",
     "text": [
      "(16,)\n",
      "(16,)\n",
      "(16,)\n",
      "(16,)\n",
      "(16,)\n",
      "(16,)\n",
      "(16,)\n",
      "(16,)\n",
      "(16,)\n"
     ]
    },
    {
     "data": {
      "image/png": "[encoded data removed]",
      "text/plain": [
       "<Figure size 720x1152 with 16 Axes>"
      ]
     },
     "metadata": {
      "needs_background": "light"
     },
     "output_type": "display_data"
    }
   ],
   "source": [
    "\n",
    "\n",
    "fig, axes = subplots(NN, 1, figsize=(10,NN*1), sharex=True, sharey=True)\n",
    "\n",
    "for n in range(NN):\n",
    "    Y = evecs[NN-n-1]\n",
    "    print(Y.shape)\n",
    "    \n",
    "    axes[n].plot(x, Y.real)\n",
    "\n",
    "axes[n].set_xlabel(r'$x$', fontsize=18);"
   ]
  },
  {
   "cell_type": "code",
   "execution_count": 42,
   "id": "2df8e798",
   "metadata": {
    "collapsed": false,
    "jupyter": {
     "outputs_hidden": false
    }
   },
   "outputs": [
    {
     "name": "stderr",
     "output_type": "stream",
     "text": [
      "c:\\Users\\Adity\\AppData\\Local\\Programs\\Python\\Python310\\lib\\site-packages\\matplotlib\\cbook\\__init__.py:1335: ComplexWarning: Casting complex values to real discards the imaginary part\n",
      "  return np.asarray(x, float)\n"
     ]
    },
    {
     "data": {
      "image/png": "[encoded data removed]",
      "text/plain": [
       "<Figure size 864x576 with 1 Axes>"
      ]
     },
     "metadata": {
      "needs_background": "light"
     },
     "output_type": "display_data"
    }
   ],
   "source": [
    "fig, ax = subplots(figsize=(12,8))\n",
    "\n",
    "ax.plot(x, U, 'k')\n",
    "for n in range(10):\n",
    "    Y = evals[n] + evecs[n]\n",
    "\n",
    "    mask = where(Y > U)    \n",
    "    ax.plot(x[mask], evals[n] * ones(shape(x))[mask], 'k--')\n",
    "\n",
    "    mask = where(Y > U-2.0)\n",
    "    ax.plot(x[mask], Y[mask].real)\n",
    "    \n",
    "ax.set_xlim(-2, 4)\n",
    "ax.set_ylim(0, 4)\n",
    "ax.set_xlabel(r'$x$', fontsize=18)\n",
    "ax.set_ylabel(r'$U(x)$', fontsize=18);"
   ]
  },
  {
   "cell_type": "markdown",
   "id": "8216e0f1",
   "metadata": {},
   "source": [
    "## Identify bound states"
   ]
  },
  {
   "cell_type": "code",
   "execution_count": 43,
   "id": "acfef7f5",
   "metadata": {
    "collapsed": false,
    "jupyter": {
     "outputs_hidden": false
    }
   },
   "outputs": [
    {
     "name": "stdout",
     "output_type": "stream",
     "text": [
      "Found bound states:  [0, 1, 2, 3, 4, 5, 6, 7, 8, 9]\n"
     ]
    }
   ],
   "source": [
    "nbound = 0\n",
    "boundidx = []\n",
    "\n",
    "for i in range(0,N):\n",
    "    if nbound < 10: \n",
    "        if inner(evecs[i], evecs[i]) > 0.85:\n",
    "            nbound = nbound + 1\n",
    "        boundidx.append(i)\n",
    "            \n",
    "print (\"Found bound states: \", boundidx)"
   ]
  },
  {
   "cell_type": "markdown",
   "id": "913fb279",
   "metadata": {},
   "source": [
    "## Evaluate transition matrix elements"
   ]
  },
  {
   "cell_type": "code",
   "execution_count": 44,
   "id": "a7950c8f",
   "metadata": {
    "collapsed": false,
    "jupyter": {
     "outputs_hidden": false
    }
   },
   "outputs": [],
   "source": [
    "inner_prod = zeros((len(boundidx), len(boundidx))).astype(complex)\n",
    "expect_pos = zeros((len(boundidx), len(boundidx))).astype(complex)\n",
    "expect_kin = zeros((len(boundidx), len(boundidx))).astype(complex)\n",
    "\n",
    "for i, l in enumerate(boundidx):\n",
    "    for j, k in enumerate(boundidx):\n",
    "    \n",
    "        psi_l = wavefunction_normalize(x, evecs[l])\n",
    "        psi_k = wavefunction_normalize(x, evecs[k])\n",
    "    \n",
    "        inner_prod[i,j] = inner_product(x, psi_l, psi_k)                 # <psi_l|psi_k>\n",
    "        expect_pos[i,j] = inner_product(x, psi_l, x * psi_k)             # <psi_l|x|psi_k>\n",
    "        expect_kin[i,j] = inner_product(x, psi_l, derivative(x, psi_k))  # <psi_l|p|psi_k>"
   ]
  },
  {
   "cell_type": "code",
   "execution_count": 45,
   "id": "3b53d6a3",
   "metadata": {
    "collapsed": false,
    "jupyter": {
     "outputs_hidden": false
    }
   },
   "outputs": [
    {
     "name": "stdout",
     "output_type": "stream",
     "text": [
      "inner_prod:\n",
      "\n",
      " 1.000  \n",
      "0.000  \n",
      "-0.000  \n",
      "-0.000  \n",
      " 0.000  \n",
      "-0.000  \n",
      " 0.000  \n",
      " 0.000  \n",
      "-0.000  \n",
      "-0.000  \n",
      "0.000  \n",
      " 1.000  \n",
      " 0.000  \n",
      "-0.000  \n",
      " 0.000  \n",
      "0.000  \n",
      "-0.000  \n",
      "-0.000  \n",
      "-0.000  \n",
      " 0.000  \n",
      "-0.000  \n",
      " 0.000  \n",
      " 1.000  \n",
      "-0.000  \n",
      " 0.000  \n",
      "-0.000  \n",
      " 0.000  \n",
      "-0.000  \n",
      "-0.000  \n",
      " 0.000  \n",
      "-0.000  \n",
      "-0.000  \n",
      "-0.000  \n",
      " 1.000  \n",
      "-0.000  \n",
      " 0.000  \n",
      "-0.000  \n",
      " 0.000  \n",
      " 0.000  \n",
      "-0.000  \n",
      " 0.000  \n",
      " 0.000  \n",
      " 0.000  \n",
      "-0.000  \n",
      " 1.000  \n",
      " 0.000  \n",
      "-0.000  \n",
      " 0.000  \n",
      " 0.000  \n",
      "-0.000  \n",
      "-0.000  \n",
      "0.000  \n",
      "-0.000  \n",
      " 0.000  \n",
      " 0.000  \n",
      " 1.000  \n",
      "0.000  \n",
      " 0.000  \n",
      " 0.000  \n",
      " 0.000  \n",
      " 0.000  \n",
      "-0.000  \n",
      " 0.000  \n",
      "-0.000  \n",
      "-0.000  \n",
      "0.000  \n",
      " 1.000  \n",
      "-0.000  \n",
      "-0.000  \n",
      " 0.000  \n",
      " 0.000  \n",
      "-0.000  \n",
      "-0.000  \n",
      " 0.000  \n",
      " 0.000  \n",
      " 0.000  \n",
      "-0.000  \n",
      " 1.000  \n",
      " 0.000  \n",
      " 0.000  \n",
      "-0.000  \n",
      "-0.000  \n",
      "-0.000  \n",
      " 0.000  \n",
      " 0.000  \n",
      " 0.000  \n",
      "-0.000  \n",
      " 0.000  \n",
      " 1.000  \n",
      "-0.000  \n",
      "-0.000  \n",
      " 0.000  \n",
      " 0.000  \n",
      "-0.000  \n",
      "-0.000  \n",
      " 0.000  \n",
      " 0.000  \n",
      " 0.000  \n",
      "-0.000  \n",
      " 1.000  \n"
     ]
    }
   ],
   "source": [
    "print (\"inner_prod:\\n\")\n",
    "print_matrix(inner_prod)"
   ]
  },
  {
   "cell_type": "code",
   "execution_count": 46,
   "id": "1805582d",
   "metadata": {
    "collapsed": false,
    "jupyter": {
     "outputs_hidden": false
    }
   },
   "outputs": [
    {
     "name": "stdout",
     "output_type": "stream",
     "text": [
      "expect_pos =\n",
      "[[ 0. -0.  0. -0.  0. -0. -0.  0. -0. -0.]\n",
      " [-0. -0. -0. -0. -0.  0.  0. -0. -0.  0.]\n",
      " [ 0. -0.  1. -0.  0.  0. -0.  0. -0. -0.]\n",
      " [-0. -0. -0. -1. -0. -0.  0.  0. -0. -0.]\n",
      " [ 0. -0.  0. -0.  1.  0. -0. -0. -0.  0.]\n",
      " [-0.  0.  0. -0.  0.  1.  0. -0.  0. -0.]\n",
      " [-0.  0. -0.  0. -0.  0.  2.  0. -0. -0.]\n",
      " [ 0. -0.  0.  0. -0. -0.  0.  2.  0.  0.]\n",
      " [-0. -0. -0. -0. -0.  0. -0.  0. -1.  0.]\n",
      " [-0.  0. -0. -0.  0. -0. -0.  0.  0.  3.]] 2\n"
     ]
    }
   ],
   "source": [
    "print(\"expect_pos =\")\n",
    "print(np.around(np.real_if_close(expect_pos)),2)"
   ]
  },
  {
   "cell_type": "code",
   "execution_count": 47,
   "id": "6d36c24b",
   "metadata": {
    "collapsed": false,
    "jupyter": {
     "outputs_hidden": false
    }
   },
   "outputs": [
    {
     "name": "stdout",
     "output_type": "stream",
     "text": [
      "expect_kin:\n",
      "\n",
      "[[ 0.   -1.24  0.63 -0.66  0.04 -0.   -0.    0.   -0.05 -0.  ]\n",
      " [ 1.24  0.   -0.98 -0.97 -0.11  0.    0.   -0.   -0.09  0.  ]\n",
      " [-0.63  0.98  0.   -0.14  1.18  0.02 -0.    0.   -0.02 -0.  ]\n",
      " [ 0.66  0.97  0.14 -0.   -0.01 -0.    0.    0.   -1.19 -0.  ]\n",
      " [-0.04  0.11 -1.18  0.01 -0.    1.19 -0.   -0.   -0.    0.  ]\n",
      " [ 0.   -0.   -0.02  0.   -1.19  0.    1.19 -0.01  0.   -0.  ]\n",
      " [ 0.   -0.    0.   -0.    0.   -1.19 -0.    1.19 -0.   -0.02]\n",
      " [-0.    0.   -0.   -0.    0.    0.01 -1.19 -0.    0.    1.19]\n",
      " [ 0.05  0.09  0.02  1.19  0.   -0.    0.   -0.    0.    0.  ]\n",
      " [ 0.   -0.    0.    0.   -0.    0.    0.02 -1.19 -0.    0.  ]]\n"
     ]
    }
   ],
   "source": [
    "print(\"expect_kin:\\n\")\n",
    "print(np.around(np.real_if_close(expect_kin),2))"
   ]
  },
  {
   "cell_type": "code",
   "execution_count": 48,
   "id": "ebadc79e",
   "metadata": {
    "collapsed": false,
    "jupyter": {
     "outputs_hidden": false
    }
   },
   "outputs": [
    {
     "name": "stdout",
     "output_type": "stream",
     "text": [
      "eigenenergies = \n",
      "[0.12355465 0.28242788 0.53517245 0.85238254 0.99646454 1.51378349\n",
      " 2.02582041 2.50166357 2.53366969 2.92774351]\n"
     ]
    }
   ],
   "source": [
    "print(\"eigenenergies = \" )\n",
    "print(evals[0:nbound].real)"
   ]
  },
  {
   "cell_type": "markdown",
   "id": "024b215f",
   "metadata": {},
   "source": [
    "### Construct Matrices"
   ]
  },
  {
   "cell_type": "code",
   "execution_count": 49,
   "id": "976e9bc9",
   "metadata": {
    "collapsed": false,
    "jupyter": {
     "outputs_hidden": false
    }
   },
   "outputs": [],
   "source": [
    "B = B_prime = zeros((POINTS_NUM, POINTS_NUM))\n",
    "for n in range(POINTS_NUM):\n",
    "    B[n] = np.real_if_close(evecs[n])[::2]\n",
    "    \n",
    "\n",
    "    if n > 1:\n",
    "      B_prime[n] = 0.5*(np.sqrt((n+1)*(n+2))*np.real_if_close(evecs[n+2]) + np.sqrt(n*(n-1))*np.real_if_close(evecs[n-2]) - (2*n +1)*np.real_if_close(evecs[n]))[::2]\n",
    "        \n",
    "    elif n <=1:\n",
    "        B_prime[n] = 0.5*(np.sqrt((n+1)*(n+2))*np.real_if_close(evecs[n+2]) - (2*n +1)*np.real_if_close(evecs[n]))[::2]\n",
    "    \n",
    "#C matrix\n",
    "C = np.matmul(np.linalg.inv(B),B_prime)\n",
    "#Potential Matrix\n",
    "V1 = np.real_if_close(assemble_V(POINTS_NUM, u, x_min, x_max))\n",
    "\n",
    "U = np.matmul(np.linalg.inv(B), V1, B)\n",
    "#H' patrix\n",
    "H_prime = -0.5*C + U"
   ]
  },
  {
   "cell_type": "code",
   "execution_count": 50,
   "id": "af935a47",
   "metadata": {},
   "outputs": [
    {
     "name": "stdout",
     "output_type": "stream",
     "text": [
      "False\n",
      "False\n",
      "False\n"
     ]
    }
   ],
   "source": [
    "\n",
    "def is_symmetric(A, tol=1e-8):\n",
    "    return linalg.norm(A-A.T, Inf) < tol;\n",
    "\n",
    "print(is_symmetric(C))\n",
    "print(is_symmetric(U))\n",
    "print(is_symmetric(H_prime))"
   ]
  },
  {
   "cell_type": "code",
   "execution_count": 51,
   "id": "3264cc88",
   "metadata": {},
   "outputs": [
    {
     "name": "stdout",
     "output_type": "stream",
     "text": [
      "H'\n",
      "[-8.68543543e+22+0.j -2.20864366e+11+0.j -9.60000000e+02+0.j\n",
      "  4.00000000e+00+0.j -2.00000000e+00+2.j -2.00000000e+00-2.j\n",
      " -1.00000000e+00+0.j -0.00000000e+00+0.j]\n",
      "C\n",
      "[1.+0.j 1.+0.j 1.-0.j 1.+0.j 1.+0.j 1.+0.j 1.+0.j 1.+0.j]\n",
      "U\n",
      "[-8.68543543e+22+0.j -2.20864366e+11+0.j -9.59000000e+02+0.j\n",
      "  4.00000000e+00+0.j -2.00000000e+00+2.j -2.00000000e+00-2.j\n",
      " -0.00000000e+00+0.j  0.00000000e+00+0.j]\n",
      "V\n",
      "[73. 42. 23. 12.  6.  2.  1.  0.]\n"
     ]
    }
   ],
   "source": [
    "print(\"H'\")\n",
    "print(np.around(np.real_if_close(np.linalg.eigvals(H_prime),2)))\n",
    "print(\"C\")\n",
    "print(np.around(np.real_if_close(np.linalg.eigvals(C),2)))\n",
    "print(\"U\")\n",
    "print(np.around(np.real_if_close(np.linalg.eigvals(U),2)))\n",
    "print(\"V\")\n",
    "print(np.around(np.real_if_close(np.linalg.eigvals(V1),2)))"
   ]
  },
  {
   "cell_type": "code",
   "execution_count": 52,
   "id": "6bd599f7",
   "metadata": {},
   "outputs": [],
   "source": [
    "# #Outputs matrix in LaTeX Formatting\n",
    "# def print_latex_matrix(matrix):\n",
    "#     rows = len(matrix)\n",
    "#     cols = len(matrix[0])\n",
    "\n",
    "#     # # Round to 1 decimal place and replace -0.0 with 0.0\n",
    "#     # rounded_matrix = [[int(round(x, 0)) if x != 0.0 or math.copysign(1, x) != -1 else 0.0 for x in row] for row in matrix]\n",
    "\n",
    "#     print(\"\\\\begin{bmatrix}\")\n",
    "#     for i in range(rows):\n",
    "#         row_str = \" & \".join(map(str, matrix[i]))#rounded_matrix[i]))\n",
    "#         if i < rows - 1:\n",
    "#             row_str += \" \\\\\\\\\"\n",
    "#         print(f\"  {row_str}\")\n",
    "#     print(\"\\\\end{bmatrix}\")\n",
    "# print_latex_matrix(np.around(H_prime,2))"
   ]
  },
  {
   "cell_type": "markdown",
   "id": "7ff0a7c2",
   "metadata": {},
   "source": [
    "## Using MINRES here"
   ]
  },
  {
   "cell_type": "markdown",
   "id": "da067394",
   "metadata": {},
   "source": [
    "We perform MINRES + Filter Diagonalization and SVD on H'. \n",
    "First, for MINRES we geenrate the arbitrary starting vector, and the various sigma values for Filter Diagonalisation."
   ]
  },
  {
   "cell_type": "code",
   "execution_count": 53,
   "id": "bafd84ab",
   "metadata": {},
   "outputs": [
    {
     "name": "stdout",
     "output_type": "stream",
     "text": [
      "The Sigma Values are: [ 0.          1.42857143  2.85714286  4.28571429  5.71428571  7.14285714\n",
      "  8.57142857 10.        ]\n"
     ]
    }
   ],
   "source": [
    "#Generate the random vector\n",
    "s = np.random.normal(0, 1, POINTS_NUM)\n",
    "\n",
    "norm=math.sqrt(sum(s*s))\n",
    "S=s/norm\n",
    "\n",
    "#Picking sigma to be uniformly distributed between sigma_lower and sigma_upper\n",
    "\n",
    "sigma = np.linspace(sigma_lower,sigma_upper,sigma_n )\n",
    "print(\"The Sigma Values are:\",sigma)"
   ]
  },
  {
   "cell_type": "markdown",
   "id": "3ea5210b",
   "metadata": {},
   "source": [
    "We Solve the Linear equation "
   ]
  },
  {
   "cell_type": "code",
   "execution_count": 54,
   "id": "e43c242c",
   "metadata": {},
   "outputs": [
    {
     "name": "stdout",
     "output_type": "stream",
     "text": [
      "We use the matrix H'\n"
     ]
    },
    {
     "name": "stdout",
     "output_type": "stream",
     "text": [
      "\n",
      "Sigma =  0.0\n",
      "Maximal difference between any component of Vi calculated by MINRES, and that calculated by the exact solver =  0.775467812138902\n",
      "Smallest Component in V (exact) =  0.00410028122758058\n",
      "Median Component by magnitude in V (exact) =  0.06840689310309328\n",
      "Exitcode =  0\n",
      "\n",
      "Sigma =  1.4285714285714286\n",
      "Maximal difference between any component of Vi calculated by MINRES, and that calculated by the exact solver =  0.21311426541515974\n",
      "Smallest Component in V (exact) =  0.004184368939924578\n",
      "Median Component by magnitude in V (exact) =  0.03191002252574941\n",
      "Exitcode =  0\n",
      "\n",
      "Sigma =  2.857142857142857\n",
      "Maximal difference between any component of Vi calculated by MINRES, and that calculated by the exact solver =  0.18410129988599455\n",
      "Smallest Component in V (exact) =  0.00870650371099343\n",
      "Median Component by magnitude in V (exact) =  0.08147192962976026\n",
      "Exitcode =  0\n",
      "\n",
      "Sigma =  4.285714285714286\n",
      "Maximal difference between any component of Vi calculated by MINRES, and that calculated by the exact solver =  0.36318230289332387\n",
      "Smallest Component in V (exact) =  0.004147998932448813\n",
      "Median Component by magnitude in V (exact) =  0.029106014027529062\n",
      "Exitcode =  0\n",
      "\n",
      "Sigma =  5.714285714285714\n",
      "Maximal difference between any component of Vi calculated by MINRES, and that calculated by the exact solver =  0.14591031363278803\n",
      "Smallest Component in V (exact) =  0.0026779543473924123\n",
      "Median Component by magnitude in V (exact) =  0.018507240200175377\n",
      "Exitcode =  0\n",
      "\n",
      "Sigma =  7.142857142857143\n",
      "Maximal difference between any component of Vi calculated by MINRES, and that calculated by the exact solver =  0.10087777351488206\n",
      "Smallest Component in V (exact) =  0.0014759403767506808\n",
      "Median Component by magnitude in V (exact) =  0.007122866645012319\n",
      "Exitcode =  0\n",
      "\n",
      "Sigma =  8.571428571428571\n",
      "Maximal difference between any component of Vi calculated by MINRES, and that calculated by the exact solver =  0.07921556261473335\n",
      "Smallest Component in V (exact) =  0.000997688143330623\n",
      "Median Component by magnitude in V (exact) =  0.006147266436059683\n",
      "Exitcode =  0\n",
      "\n",
      "Sigma =  10.0\n",
      "Maximal difference between any component of Vi calculated by MINRES, and that calculated by the exact solver =  0.0658767299098038\n",
      "Smallest Component in V (exact) =  0.0007447804993560121\n",
      "Median Component by magnitude in V (exact) =  0.005680816084947535\n",
      "Exitcode =  0\n"
     ]
    }
   ],
   "source": [
    "print(\"We use the matrix H'\")\n",
    "\n",
    "V_regular = np.zeros((sigma_n,POINTS_NUM))\n",
    "V_minres = np.zeros((sigma_n,POINTS_NUM))\n",
    "for i in range(sigma_n):\n",
    "    V_regular[i] = np.dot(np.linalg.inv(sigma[i]*np.eye(POINTS_NUM) - H_prime),S)\n",
    "    V_minres[i], exitcode = minres((sigma[i]*np.eye(POINTS_NUM) - H_prime), S, maxiter = maxit, tol = np.float32(1e-9))\n",
    "    \n",
    "for i in range(sigma_n):\n",
    "    print(\"\\nSigma = \", sigma[i])\n",
    "    print(\"Maximal difference between any component of Vi calculated by MINRES, and that calculated by the exact solver = \", max(abs(V_minres[i] - V_regular[i])))\n",
    "    print(\"Smallest Component in V (exact) = \", min(abs(V_regular[i])))\n",
    "    print(\"Median Component by magnitude in V (exact) = \", np.median(np.sort(abs(V_regular[i]))))\n",
    "    print(\"Exitcode = \", exitcode)\n"
   ]
  },
  {
   "cell_type": "markdown",
   "id": "7a7cc21e",
   "metadata": {},
   "source": [
    "Examining the outcome for a particular sigma value"
   ]
  },
  {
   "cell_type": "code",
   "execution_count": 55,
   "id": "2db9baef",
   "metadata": {},
   "outputs": [
    {
     "name": "stdout",
     "output_type": "stream",
     "text": [
      "Sigma =  1.4285714285714286\n",
      "\n",
      "Vi by exact solver =  [-0.00418437  0.01003344  0.02781653 -0.00842494 -0.03600352 -0.10369572\n",
      " -0.16410915  0.21311427]\n",
      "\n",
      "Vi by MINRES =  [ 6.05359747e-22 -2.01959763e-21 -1.41178734e-21 -4.60609225e-22\n",
      "  3.28693975e-21  1.00341837e-21  1.76459542e-21 -2.21448349e-21]\n",
      "\n",
      "The Vi(regular) - Vi(MINRES) =  [-0.00418437  0.01003344  0.02781653 -0.00842494 -0.03600352 -0.10369572\n",
      " -0.16410915  0.21311427]\n"
     ]
    }
   ],
   "source": [
    "print(\"Sigma = \", sigma[1])\n",
    "print(\"\\nVi by exact solver = \", V_regular[1])\n",
    "print(\"\\nVi by MINRES = \", V_minres[1])\n",
    "print(\"\\nThe Vi(regular) - Vi(MINRES) = \", V_regular[1] - V_minres[1])"
   ]
  },
  {
   "cell_type": "markdown",
   "id": "392eb0e2",
   "metadata": {},
   "source": [
    "Performing the next stage of the process by creating and solving the generalized eigenvalue equation "
   ]
  },
  {
   "cell_type": "code",
   "execution_count": 56,
   "id": "b66859a9",
   "metadata": {},
   "outputs": [
    {
     "name": "stdout",
     "output_type": "stream",
     "text": [
      "(8, 8)\n",
      "(8, 8)\n"
     ]
    }
   ],
   "source": [
    "#Creating the H and S matrices\n",
    "Hmatrix = np.ones((sigma_n,sigma_n))\n",
    "Smatrix = np.ones((sigma_n,sigma_n))\n",
    "\n",
    "Hmatrix_minres = np.ones((sigma_n,sigma_n))\n",
    "Smatrix_minres = np.ones((sigma_n,sigma_n))\n",
    "\n",
    "matrix = H_prime\n",
    "\n",
    "for i in range(sigma_n):\n",
    "    for j in range(sigma_n):\n",
    "        Hmatrix[i,j]= np.dot(V_regular[i],np.dot(matrix,V_regular[j]))\n",
    "        Hmatrix_minres[i,j]= np.dot(V_minres[i],np.dot(matrix,V_minres[j]))\n",
    "        Smatrix[i,j] = np.dot(V_regular[i],V_regular[j])\n",
    "        Smatrix_minres[i,j] = np.dot(V_minres[i],V_minres[j])\n",
    "\n",
    "\n",
    "print(Hmatrix.shape)\n",
    "print(Smatrix.shape) "
   ]
  },
  {
   "cell_type": "markdown",
   "id": "74fa2c2e",
   "metadata": {},
   "source": [
    "Now, we solve the generalized Eigenvalue Equation for the matrices."
   ]
  },
  {
   "cell_type": "code",
   "execution_count": 57,
   "id": "b494b687",
   "metadata": {},
   "outputs": [
    {
     "ename": "LinAlgError",
     "evalue": "The leading minor of order 7 of B is not positive definite. The factorization of B could not be completed and no eigenvalues or eigenvectors were computed.",
     "output_type": "error",
     "traceback": [
      "\u001b[1;31m---------------------------------------------------------------------------\u001b[0m",
      "\u001b[1;31mLinAlgError\u001b[0m                               Traceback (most recent call last)",
      "Input \u001b[1;32mIn [57]\u001b[0m, in \u001b[0;36m<cell line: 17>\u001b[1;34m()\u001b[0m\n\u001b[0;32m      8\u001b[0m     \u001b[38;5;28;01mreturn\u001b[39;00m eigenvalues_in_range\n\u001b[0;32m     12\u001b[0m eigenvalues_filtered_H_prime \u001b[38;5;241m=\u001b[39m eigenvalues_in_range(H_prime)\n\u001b[1;32m---> 17\u001b[0m eigvals, eigvecs \u001b[38;5;241m=\u001b[39m \u001b[43mlinalg\u001b[49m\u001b[38;5;241;43m.\u001b[39;49m\u001b[43meigh\u001b[49m\u001b[43m(\u001b[49m\u001b[43mHmatrix\u001b[49m\u001b[43m,\u001b[49m\u001b[43m \u001b[49m\u001b[43mb\u001b[49m\u001b[43m \u001b[49m\u001b[38;5;241;43m=\u001b[39;49m\u001b[43m \u001b[49m\u001b[43mSmatrix\u001b[49m\u001b[43m,\u001b[49m\u001b[43meigvals_only\u001b[49m\u001b[38;5;241;43m=\u001b[39;49m\u001b[38;5;28;43;01mFalse\u001b[39;49;00m\u001b[43m)\u001b[49m\n\u001b[0;32m     18\u001b[0m eigvals_minres, eigvecs_minres \u001b[38;5;241m=\u001b[39m linalg\u001b[38;5;241m.\u001b[39meigh(Hmatrix_minres, b \u001b[38;5;241m=\u001b[39m Smatrix_minres,eigvals_only\u001b[38;5;241m=\u001b[39m\u001b[38;5;28;01mFalse\u001b[39;00m)\n\u001b[0;32m     19\u001b[0m \u001b[38;5;28mprint\u001b[39m(\u001b[38;5;124m\"\u001b[39m\u001b[38;5;124mThe sigma values are - \u001b[39m\u001b[38;5;124m\"\u001b[39m, sigma)\n",
      "File \u001b[1;32mc:\\Users\\Adity\\AppData\\Local\\Programs\\Python\\Python310\\lib\\site-packages\\scipy\\linalg\\_decomp.py:594\u001b[0m, in \u001b[0;36meigh\u001b[1;34m(a, b, lower, eigvals_only, overwrite_a, overwrite_b, turbo, eigvals, type, check_finite, subset_by_index, subset_by_value, driver)\u001b[0m\n\u001b[0;32m    591\u001b[0m     \u001b[38;5;28;01mraise\u001b[39;00m LinAlgError(\u001b[38;5;124m'\u001b[39m\u001b[38;5;124mIllegal value in argument \u001b[39m\u001b[38;5;132;01m{}\u001b[39;00m\u001b[38;5;124m of internal \u001b[39m\u001b[38;5;132;01m{}\u001b[39;00m\u001b[38;5;124m'\u001b[39m\n\u001b[0;32m    592\u001b[0m                       \u001b[38;5;124m'\u001b[39m\u001b[38;5;124m'\u001b[39m\u001b[38;5;241m.\u001b[39mformat(\u001b[38;5;241m-\u001b[39minfo, drv\u001b[38;5;241m.\u001b[39mtypecode \u001b[38;5;241m+\u001b[39m pfx \u001b[38;5;241m+\u001b[39m driver))\n\u001b[0;32m    593\u001b[0m \u001b[38;5;28;01melif\u001b[39;00m info \u001b[38;5;241m>\u001b[39m n:\n\u001b[1;32m--> 594\u001b[0m     \u001b[38;5;28;01mraise\u001b[39;00m LinAlgError(\u001b[38;5;124m'\u001b[39m\u001b[38;5;124mThe leading minor of order \u001b[39m\u001b[38;5;132;01m{}\u001b[39;00m\u001b[38;5;124m of B is not \u001b[39m\u001b[38;5;124m'\u001b[39m\n\u001b[0;32m    595\u001b[0m                       \u001b[38;5;124m'\u001b[39m\u001b[38;5;124mpositive definite. The factorization of B \u001b[39m\u001b[38;5;124m'\u001b[39m\n\u001b[0;32m    596\u001b[0m                       \u001b[38;5;124m'\u001b[39m\u001b[38;5;124mcould not be completed and no eigenvalues \u001b[39m\u001b[38;5;124m'\u001b[39m\n\u001b[0;32m    597\u001b[0m                       \u001b[38;5;124m'\u001b[39m\u001b[38;5;124mor eigenvectors were computed.\u001b[39m\u001b[38;5;124m'\u001b[39m\u001b[38;5;241m.\u001b[39mformat(info\u001b[38;5;241m-\u001b[39mn))\n\u001b[0;32m    598\u001b[0m \u001b[38;5;28;01melse\u001b[39;00m:\n\u001b[0;32m    599\u001b[0m     drv_err \u001b[38;5;241m=\u001b[39m {\u001b[38;5;124m'\u001b[39m\u001b[38;5;124mev\u001b[39m\u001b[38;5;124m'\u001b[39m: \u001b[38;5;124m'\u001b[39m\u001b[38;5;124mThe algorithm failed to converge; \u001b[39m\u001b[38;5;132;01m{}\u001b[39;00m\u001b[38;5;124m \u001b[39m\u001b[38;5;124m'\u001b[39m\n\u001b[0;32m    600\u001b[0m                      \u001b[38;5;124m'\u001b[39m\u001b[38;5;124moff-diagonal elements of an intermediate \u001b[39m\u001b[38;5;124m'\u001b[39m\n\u001b[0;32m    601\u001b[0m                      \u001b[38;5;124m'\u001b[39m\u001b[38;5;124mtridiagonal form did not converge to zero.\u001b[39m\u001b[38;5;124m'\u001b[39m,\n\u001b[1;32m   (...)\u001b[0m\n\u001b[0;32m    606\u001b[0m                \u001b[38;5;124m'\u001b[39m\u001b[38;5;124mevr\u001b[39m\u001b[38;5;124m'\u001b[39m: \u001b[38;5;124m'\u001b[39m\u001b[38;5;124mInternal Error.\u001b[39m\u001b[38;5;124m'\u001b[39m\n\u001b[0;32m    607\u001b[0m                }\n",
      "\u001b[1;31mLinAlgError\u001b[0m: The leading minor of order 7 of B is not positive definite. The factorization of B could not be completed and no eigenvalues or eigenvectors were computed."
     ]
    }
   ],
   "source": [
    "def eigenvalues_in_range(matrix, sigma_lower = sigma_lower, sigma_upper = sigma_upper):\n",
    "    # Calculate eigenvalues\n",
    "    eigenvalues = np.linalg.eigvals(matrix)\n",
    "\n",
    "    # Filter eigenvalues within the specified range\n",
    "    eigenvalues_in_range = [eigval for eigval in eigenvalues if sigma_lower <= eigval <= sigma_upper]\n",
    "\n",
    "    return eigenvalues_in_range\n",
    "\n",
    "\n",
    "\n",
    "eigenvalues_filtered_H_prime = eigenvalues_in_range(H_prime)\n",
    "\n",
    "\n",
    "\n",
    "\n",
    "eigvals, eigvecs = linalg.eigh(Hmatrix, b = Smatrix,eigvals_only=False)\n",
    "eigvals_minres, eigvecs_minres = linalg.eigh(Hmatrix_minres, b = Smatrix_minres,eigvals_only=False)\n",
    "print(\"The sigma values are - \", sigma)\n",
    "print(\"Exact Solver : Solved eigenvalues - \", eigvals)\n",
    "print(\"MINRES : Solved eigenvalues - \", eigvals_minres)\n",
    "print(\"Std. Solver's e-values - MINRES e-values = \", eigvals - eigvals_minres)\n",
    "#print(\"The Symmetric Matrix B's eigenvalues between 0 to 2 are : \", eigB[:8])\n",
    "print(f\"The Matrix H prime's eigenvalues between {sigma_lower} to {sigma_upper}are : {eigenvalues_filtered_H_prime} \")\n",
    "#eigvalMINRES, exitcode = minres(Hmatrix, Smatrix)"
   ]
  },
  {
   "cell_type": "markdown",
   "id": "aecdaf5f",
   "metadata": {},
   "source": [
    "We perform SVD (To be debugged)"
   ]
  },
  {
   "cell_type": "code",
   "execution_count": null,
   "id": "6530ddff",
   "metadata": {},
   "outputs": [],
   "source": [
    "S_evals, S_evecs = np.linalg.eig(Smatrix)\n",
    "\n",
    "S_evecs = S_evecs.T\n",
    "\n",
    "Lambda = S_evals*np.eye(sigma_n,sigma_n)\n",
    "Z = S_evecs[:(sigma_n - dropped_elements)]\n",
    "Lambda_Trunc = S_evals[:(sigma_n - dropped_elements)]*np.eye(sigma_n - dropped_elements,sigma_n - dropped_elements)\n",
    "\n",
    "\n",
    "spl_Z = Z[1:]\n",
    "spl_Lambda_Trunc = S_evals[1:(sigma_n - dropped_elements)]*np.eye(sigma_n - dropped_elements-1,sigma_n - dropped_elements-1)\n",
    "\n",
    "S_evals_minres, S_evecs_minres = np.linalg.eig(Smatrix_minres)\n",
    "\n",
    "S_evecs_minres = S_evecs_minres.T\n",
    "\n",
    "Lambda_minres = S_evals_minres*np.eye(sigma_n,sigma_n)\n",
    "Z_minres = S_evecs_minres[:(sigma_n - dropped_elements)]\n",
    "Lambda_Trunc_minres = S_evals_minres[:(sigma_n - dropped_elements)]*np.eye(sigma_n - dropped_elements,sigma_n - dropped_elements)\n",
    "\n",
    "\n",
    "spl_Z_minres = Z[1:]\n",
    "spl_Lambda_Trunc_minres = S_evals_minres[1:(sigma_n - dropped_elements)]*np.eye(sigma_n - dropped_elements-1,sigma_n - dropped_elements-1)\n",
    "\n"
   ]
  },
  {
   "cell_type": "code",
   "execution_count": null,
   "id": "771fa6fe",
   "metadata": {},
   "outputs": [],
   "source": [
    "#Solving the Generalized EV equation\n",
    "eigvals1, eigvecs1 = scipy.linalg.eigh(Hmatrix, b = Smatrix,eigvals_only=False)\n",
    "eigvals_minres1, eigvecs_minres1 = scipy.linalg.eigh(Hmatrix_minres, b = Smatrix_minres,eigvals_only=False)\n",
    "print(\"The sigma values are - \", sigma)\n",
    "print(\"Exact Solver : Solved eigenvalues - \", eigvals1)\n",
    "print(\"MINRES : Solved eigenvalues - \", eigvals_minres1)\n",
    "print(\"Std. Solver's e-values - MINRES e-values = \", eigvals1 - eigvals_minres1)\n",
    "#print(\"The Symmetric Matrix B's eigenvalues between 0 to 2 are : \", eigB[:8])\n",
    "print(f\"The Matrix H prime's eigenvalues between {sigma_lower} to {sigma_upper}are : {eigenvalues_filtered_H_prime} \")\n",
    "#eigvalMINRES, exitcode = minres(Hmatrix, Smatrix)"
   ]
  }
 ],
 "metadata": {
  "kernelspec": {
   "display_name": "Python 3 (ipykernel)",
   "language": "python",
   "name": "python3"
  },
  "language_info": {
   "codemirror_mode": {
    "name": "ipython",
    "version": 3
   },
   "file_extension": ".py",
   "mimetype": "text/x-python",
   "name": "python",
   "nbconvert_exporter": "python",
   "pygments_lexer": "ipython3",
   "version": "3.10.5"
  }
 },
 "nbformat": 4,
 "nbformat_minor": 5
}
