{
 "cells": [
  {
   "cell_type": "code",
   "execution_count": 1,
   "metadata": {},
   "outputs": [],
   "source": [
    "import numpy as np\n",
    "import scipy\n",
    "import math\n",
    "import matplotlib.pyplot as plt\n",
    "from matplotlib import rc\n",
    "from scipy.constants import h, hbar, c, u\n",
    "from scipy.special import genlaguerre, gamma, factorial\n",
    "from minresScipy import *\n",
    "POINTS_NUM = 10\n",
    "sigma_n = 8\n",
    "sigma_lower = 0\n",
    "sigma_upper = 10\n",
    "\n",
    "maxit = 200000\n",
    "dropped_elements = 3"
   ]
  },
  {
   "cell_type": "code",
   "execution_count": 2,
   "metadata": {},
   "outputs": [],
   "source": [
    "\n",
    "# Factor for conversion from cm-1 to J\n",
    "FAC = 100 * h * c\n",
    "B = B_prime =  np.zeros((POINTS_NUM,POINTS_NUM))\n",
    "psi_list = []\n",
    "b_primeList = []\n",
    "\n",
    "def get_equidistant_points(input_array):\n",
    "    total_points = len(input_array)\n",
    "    equidistant_indices = np.linspace(0,total_points -1,POINTS_NUM, dtype= int  )\n",
    "\n",
    "    equidistant_points = input_array[equidistant_indices]\n",
    "\n",
    "    return equidistant_points\n",
    "\n",
    "class Morse:\n",
    "    \"\"\"A class representing the Morse oscillator model of a diatomic.\"\"\"\n",
    "\n",
    "    def __init__(self, mA, mB, we, wexe, re, Te, n = 1000):\n",
    "        \"\"\"Initialize the Morse model for a diatomic molecule.\n",
    "\n",
    "        mA, mB are the atom masses (atomic mass units).\n",
    "        we, wexe are the Morse parameters (cm-1).\n",
    "        re is the equilibrium bond length (m).\n",
    "        Te is the electronic energy (minimum of the potential well; origin\n",
    "            of the vibrational state energies).\n",
    "\n",
    "        \"\"\"\n",
    "        self.n = n\n",
    "        self.mA, self.mB = mA, mB\n",
    "        self.mu = mA*mB/(mA+mB) * u\n",
    "        self.we, self.wexe = we, wexe\n",
    "        self.re = re\n",
    "        self.Te = Te\n",
    "\n",
    "        self.De = we**2 / 4 / wexe * FAC\n",
    "        self.ke = (2 * np.pi * c * 100 * we)**2 * self.mu\n",
    "        #  Morse parameters, a and lambda.\n",
    "        self.a = self.calc_a()\n",
    "        self.lam = np.sqrt(2 * self.mu * self.De) / self.a / hbar\n",
    "        # Maximum vibrational quantum number.\n",
    "        self.vmax = int(np.floor(self.lam - 0.5))\n",
    "\n",
    "        self.make_rgrid()\n",
    "        self.V = self.Vmorse(self.r)\n",
    "\n",
    "    def make_rgrid(self, rmin=None, rmax=None, retstep=False):\n",
    "        \"\"\"Make a suitable grid of internuclear separations.\"\"\"\n",
    "\n",
    "        self.rmin, self.rmax = rmin, rmax\n",
    "        if rmin is None:\n",
    "            # minimum r where V(r)=De on repulsive edge\n",
    "            self.rmin = self.re - np.log(2) / self.a\n",
    "        if rmax is None:\n",
    "            # maximum r where V(r)=f.De\n",
    "            f = 0.999\n",
    "            self.rmax = self.re - np.log(1-f)/self.a\n",
    "        self.r, self.dr = np.linspace(self.rmin, self.rmax, self.n,\n",
    "                                      retstep=True)\n",
    "        \n",
    "        if retstep:\n",
    "            return self.r, self.dr\n",
    "        return self.r\n",
    "        \n",
    "\n",
    "    def calc_a(self):\n",
    "        \"\"\"Calculate the Morse parameter, a.\n",
    "\n",
    "        Returns the Morse parameter, a, from the equilibrium\n",
    "        vibrational wavenumber, we in cm-1, and the dissociation\n",
    "        energy, De in J.\n",
    "\n",
    "        \"\"\"\n",
    "\n",
    "        return (self.we * np.sqrt(2 * self.mu/self.De) * np.pi *\n",
    "                c * 100)\n",
    "\n",
    "    def Vmorse(self, r):\n",
    "        \"\"\"Calculate the Morse potential, V(r).\n",
    "\n",
    "        Returns the Morse potential at r (in m) for parameters De\n",
    "        (in J), a (in m-1) and re (in m).\n",
    "\n",
    "        \"\"\"\n",
    "        print((self.De * (1 - np.exp(-self.a*(r - self.re)))**2).shape)\n",
    "        return self.De * (1 - np.exp(-self.a*(r - self.re)))**2\n",
    "\n",
    "    def Emorse(self, v):\n",
    "        \"\"\"Calculate the energy of a Morse oscillator in state v.\n",
    "\n",
    "        Returns the energy of a Morse oscillator parameterized by\n",
    "        equilibrium vibrational frequency we and anharmonicity\n",
    "        constant, wexe (both in cm-1).\n",
    "\n",
    "        \"\"\"\n",
    "        vphalf = v + 0.5\n",
    "        return (self.we * vphalf - self.wexe * vphalf**2) * FAC\n",
    "\n",
    "    def calc_turning_pts(self, E):\n",
    "        \"\"\"Calculate the classical turning points at energy E.\n",
    "\n",
    "        Returns rm and rp, the classical turning points of the Morse\n",
    "        oscillator at energy E (provided in J). rm < rp.\n",
    "\n",
    "        \"\"\"\n",
    "\n",
    "        b = np.sqrt(E / self.De)\n",
    "        return (self.re - np.log(1+b) / self.a,\n",
    "                self.re - np.log(1-b) / self.a)\n",
    "\n",
    "    def calc_psi(self, v, r=None, normed=True, psi_max=1):\n",
    "        \"\"\"Calculates the Morse oscillator wavefunction, psi_v.\n",
    "\n",
    "        Returns the Morse oscillator wavefunction at vibrational\n",
    "        quantum number v. The returned function is \"normalized\" to\n",
    "        give peak value psi_max.\n",
    "\n",
    "        \"\"\"\n",
    "\n",
    "        if r is None:\n",
    "            r = self.r\n",
    "        z = 2 * self.lam * np.exp(-self.a*(r - self.re))\n",
    "        alpha = 2*(self.lam - v) - 1\n",
    "        psi = (z**(self.lam-v-0.5) * np.exp(-z/2) *\n",
    "               genlaguerre(v, alpha)(z))\n",
    "        psi *= psi_max / np.max(psi)\n",
    "        return psi\n",
    "\n",
    "    def calc_psi_z(self, v, z):\n",
    "        alpha = 2*(self.lam - v) - 1\n",
    "        psi = (z**(self.lam-v-0.5) * np.exp(-z/2) *\n",
    "               genlaguerre(v, alpha)(z))\n",
    "        Nv = np.sqrt(factorial(v) * (2*self.lam - 2*v - 1) /\n",
    "                     gamma(2*self.lam - v))\n",
    "        return Nv * psi\n",
    "\n",
    "    def plot_V(self, ax, **kwargs):\n",
    "        \"\"\"Plot the Morse potential on Axes ax.\"\"\"\n",
    "\n",
    "        ax.plot(self.r*1.e10, self.V / FAC + self.Te, **kwargs)\n",
    "\n",
    "    def get_vmax(self):\n",
    "        \"\"\"Return the maximum vibrational quantum number.\"\"\"\n",
    "\n",
    "        return int(self.we / 2 / self.wexe - 0.5)\n",
    "\n",
    "    def draw_Elines(self, vlist, ax, **kwargs):\n",
    "        \"\"\"Draw lines on Axes ax representing the energy level(s) in vlist.\"\"\"\n",
    "\n",
    "        if isinstance(vlist, int):\n",
    "            vlist = [vlist]\n",
    "        for v in vlist:\n",
    "            E = self.Emorse(v)\n",
    "            rm, rp = self.calc_turning_pts(E)\n",
    "            ax.hlines(E / FAC + self.Te, rm*1.e10, rp*1e10, **kwargs)\n",
    "\n",
    "    def label_levels(self, vlist, ax):\n",
    "        if isinstance(vlist, int):\n",
    "            vlist = [vlist]\n",
    "\n",
    "        for v in vlist:\n",
    "            E = self.Emorse(v)\n",
    "            rm, rp = self.calc_turning_pts(E)\n",
    "            ax.text(s=r'$v={}$'.format(v), x=rp*1e10 + 0.6,\n",
    "                    y=E / FAC + self.Te, va='center')\n",
    "\n",
    "    def plot_psi(self, vlist, ax, r_plot=None, scaling=1, **kwargs):\n",
    "        \"\"\"Plot the Morse wavefunction(s) in vlist on Axes ax.\"\"\"\n",
    "        if isinstance(vlist, int):\n",
    "            vlist = [vlist]\n",
    "        for v in vlist:\n",
    "            E = self.Emorse(v)\n",
    "            if r_plot is None:\n",
    "                rm, rp = self.calc_turning_pts(E)\n",
    "                x = self.r[self.r<rp*1.2]\n",
    "            else:\n",
    "                x = r_plot\n",
    "            psi = self.calc_psi(v, r=x, psi_max=self.we/2)\n",
    "            psi_plot = psi*scaling + self.Emorse(v)/FAC + self.Te\n",
    "            ax.plot(x*1.e10, psi_plot, **kwargs)\n",
    "            print(x.shape)\n",
    "            psi_list.append(self.calc_psi(v, r=get_equidistant_points(x), psi_max=self.we/2))\n",
    "            #print(get_equidistant_points(x).shape)\n",
    "    \n",
    "    \n",
    "        for i in range(POINTS_NUM):\n",
    "            if i > 1:\n",
    "                b_prime = 0.5*(np.sqrt((i+1)*(i+2))*psi_list[i+2] + np.sqrt(i*(i-1))*psi_list[i-2] - (2*i +1)*psi_list[i])\n",
    "            \n",
    "            elif i <=1:\n",
    "                b_prime = 0.5*(np.sqrt((i+1)*(i+2))*psi_list[i+2] - (2*i +1)*psi_list[i])\n",
    "            b_primeList.append(b_prime)"
   ]
  },
  {
   "cell_type": "markdown",
   "metadata": {},
   "source": [
    "Morse oscillator for H(1)Cl(35)"
   ]
  },
  {
   "cell_type": "code",
   "execution_count": 3,
   "metadata": {},
   "outputs": [
    {
     "name": "stdout",
     "output_type": "stream",
     "text": [
      "(1000,)\n",
      "(1000,)\n",
      "(183,)\n",
      "(211,)\n",
      "(234,)\n",
      "(254,)\n",
      "(273,)\n",
      "(292,)\n",
      "(310,)\n",
      "(329,)\n",
      "(348,)\n",
      "(367,)\n",
      "(387,)\n",
      "(408,)\n"
     ]
    },
    {
     "data": {
      "image/png": "[encoded data removed]",
      "text/plain": [
       "<Figure size 432x288 with 1 Axes>"
      ]
     },
     "metadata": {
      "needs_background": "light"
     },
     "output_type": "display_data"
    }
   ],
   "source": [
    "rc('font', **{'family': 'serif', 'serif': ['Computer Modern'], 'size': 14})\n",
    "rc('text', usetex=True)\n",
    "\n",
    "COLOUR1 = (0.6196, 0.0039, 0.2588, 1.0)\n",
    "\n",
    "# Atom masses and equilibrium bond length for (1H)(35Cl).\n",
    "mA, mB = 1., 35.\n",
    "X_re = 1.27455e-10\n",
    "X_Te = 0\n",
    "X_we, X_wexe = 2990.945, 52.818595\n",
    "\n",
    "X = Morse(mA, mB, X_we, X_wexe, X_re, X_Te)\n",
    "X.make_rgrid()\n",
    "X.V = X.Vmorse(X.r)\n",
    "\n",
    "fig, ax = plt.subplots()\n",
    "X.plot_V(ax, color='k')\n",
    "\n",
    "X.draw_Elines(range(X.vmax), ax)\n",
    "X.draw_Elines(X.get_vmax(), ax, linestyles='--', linewidths=1)\n",
    "X.plot_psi(range(POINTS_NUM + 2), ax, scaling=2, color=COLOUR1)\n",
    "X.label_levels(range(POINTS_NUM +2), ax)\n",
    "\n",
    "ax.set_xlabel(r'$r\\;/\\mathrm{\\\\A}$')\n",
    "ax.spines['top'].set_visible(False)\n",
    "ax.spines['right'].set_visible(False)\n",
    "\n",
    "plt.show()"
   ]
  },
  {
   "cell_type": "code",
   "execution_count": 4,
   "metadata": {},
   "outputs": [
    {
     "name": "stdout",
     "output_type": "stream",
     "text": [
      "(10,)\n",
      "(10,)\n"
     ]
    }
   ],
   "source": [
    "\n",
    "for i in range(int(POINTS_NUM)):\n",
    "    B[i] = psi_list[i]\n",
    "    B_prime = b_primeList[i]\n",
    "\n",
    "# every row of B is a wave function\n",
    "\n",
    "#C matrix\n",
    "C = np.matmul(np.linalg.inv(B),B_prime)\n",
    "\n",
    "\n",
    "#Potential Matrix\n",
    "X1 = Morse(mA, mB, X_we, X_wexe, X_re, X_Te, n =10)\n",
    "X1.make_rgrid()\n",
    "X1.V = X1.Vmorse(X1.r)\n",
    "U = np.matmul(np.linalg.inv(B), np.matmul(X1.V, B))\n",
    "\n",
    "#H' patrix\n",
    "H_prime = -0.5*C + U\n",
    "\n",
    "\n",
    "\n",
    "\n",
    "\n",
    "\n"
   ]
  },
  {
   "cell_type": "markdown",
   "metadata": {},
   "source": [
    "Displaying the matrices"
   ]
  },
  {
   "cell_type": "code",
   "execution_count": 5,
   "metadata": {},
   "outputs": [],
   "source": [
    "# #Outputs matrix in LaTeX Formatting\n",
    "# def print_latex_matrix(matrix):\n",
    "#     rows = len(matrix)\n",
    "#     cols = len(matrix[0])\n",
    "\n",
    "#     # # Round to 1 decimal place and replace -0.0 with 0.0\n",
    "#     # rounded_matrix = [[int(round(x, 0)) if x != 0.0 or math.copysign(1, x) != -1 else 0.0 for x in row] for row in matrix]\n",
    "\n",
    "#     print(\"\\\\begin{bmatrix}\")\n",
    "#     for i in range(rows):\n",
    "#         row_str = \" & \".join(map(str, matrix[i]))#rounded_matrix[i]))\n",
    "#         if i < rows - 1:\n",
    "#             row_str += \" \\\\\\\\\"\n",
    "#         print(f\"  {row_str}\")\n",
    "#     print(\"\\\\end{bmatrix}\")\n",
    "# print_latex_matrix(np.around(H_prime,2))"
   ]
  },
  {
   "cell_type": "markdown",
   "metadata": {},
   "source": [
    "# MINRES + Filter Diagonalization\n"
   ]
  },
  {
   "cell_type": "markdown",
   "metadata": {},
   "source": [
    "We perform MINRES + Filter Diagonalization and SVD on H'. \n",
    "First, for MINRES we geenrate the arbitrary starting vector, and the various sigma values for Filter Diagonalisation."
   ]
  },
  {
   "cell_type": "code",
   "execution_count": 6,
   "metadata": {},
   "outputs": [
    {
     "name": "stdout",
     "output_type": "stream",
     "text": [
      "The Sigma Values are: [ 0.          1.42857143  2.85714286  4.28571429  5.71428571  7.14285714\n",
      "  8.57142857 10.        ]\n"
     ]
    }
   ],
   "source": [
    "#Generate the random vector\n",
    "s = np.random.normal(0, 1, POINTS_NUM)\n",
    "\n",
    "norm=math.sqrt(sum(s*s))\n",
    "S=s/norm\n",
    "\n",
    "#Picking sigma to be uniformly distributed between sigma_lower and sigma_upper\n",
    "\n",
    "sigma = np.linspace(sigma_lower,sigma_upper,sigma_n )\n",
    "print(\"The Sigma Values are:\",sigma)"
   ]
  },
  {
   "cell_type": "markdown",
   "metadata": {},
   "source": [
    "Solving the linear equation using MINRES"
   ]
  },
  {
   "cell_type": "code",
   "execution_count": 7,
   "metadata": {},
   "outputs": [
    {
     "name": "stdout",
     "output_type": "stream",
     "text": [
      "We use the matrix H'\n"
     ]
    },
    {
     "ename": "LinAlgError",
     "evalue": "Singular matrix",
     "output_type": "error",
     "traceback": [
      "\u001b[1;31m---------------------------------------------------------------------------\u001b[0m",
      "\u001b[1;31mLinAlgError\u001b[0m                               Traceback (most recent call last)",
      "Input \u001b[1;32mIn [7]\u001b[0m, in \u001b[0;36m<cell line: 5>\u001b[1;34m()\u001b[0m\n\u001b[0;32m      4\u001b[0m V_minres \u001b[38;5;241m=\u001b[39m np\u001b[38;5;241m.\u001b[39mzeros((sigma_n,POINTS_NUM))\n\u001b[0;32m      5\u001b[0m \u001b[38;5;28;01mfor\u001b[39;00m i \u001b[38;5;129;01min\u001b[39;00m \u001b[38;5;28mrange\u001b[39m(sigma_n):\n\u001b[1;32m----> 6\u001b[0m     V_regular[i] \u001b[38;5;241m=\u001b[39m np\u001b[38;5;241m.\u001b[39mdot(\u001b[43mnp\u001b[49m\u001b[38;5;241;43m.\u001b[39;49m\u001b[43mlinalg\u001b[49m\u001b[38;5;241;43m.\u001b[39;49m\u001b[43minv\u001b[49m\u001b[43m(\u001b[49m\u001b[43msigma\u001b[49m\u001b[43m[\u001b[49m\u001b[43mi\u001b[49m\u001b[43m]\u001b[49m\u001b[38;5;241;43m*\u001b[39;49m\u001b[43mnp\u001b[49m\u001b[38;5;241;43m.\u001b[39;49m\u001b[43meye\u001b[49m\u001b[43m(\u001b[49m\u001b[43mPOINTS_NUM\u001b[49m\u001b[43m)\u001b[49m\u001b[43m \u001b[49m\u001b[38;5;241;43m-\u001b[39;49m\u001b[43m \u001b[49m\u001b[43mH_prime\u001b[49m\u001b[43m)\u001b[49m,S)\n\u001b[0;32m      7\u001b[0m     V_minres[i], exitcode \u001b[38;5;241m=\u001b[39m minres((sigma[i]\u001b[38;5;241m*\u001b[39mnp\u001b[38;5;241m.\u001b[39meye(POINTS_NUM) \u001b[38;5;241m-\u001b[39m H_prime), S, maxiter \u001b[38;5;241m=\u001b[39m maxit, tol \u001b[38;5;241m=\u001b[39m np\u001b[38;5;241m.\u001b[39mfloat32(\u001b[38;5;241m1e-9\u001b[39m))\n\u001b[0;32m      9\u001b[0m \u001b[38;5;28;01mfor\u001b[39;00m i \u001b[38;5;129;01min\u001b[39;00m \u001b[38;5;28mrange\u001b[39m(sigma_n):\n",
      "File \u001b[1;32m<__array_function__ internals>:200\u001b[0m, in \u001b[0;36minv\u001b[1;34m(*args, **kwargs)\u001b[0m\n",
      "File \u001b[1;32mc:\\Users\\Adity\\AppData\\Local\\Programs\\Python\\Python310\\lib\\site-packages\\numpy\\linalg\\linalg.py:538\u001b[0m, in \u001b[0;36minv\u001b[1;34m(a)\u001b[0m\n\u001b[0;32m    536\u001b[0m signature \u001b[38;5;241m=\u001b[39m \u001b[38;5;124m'\u001b[39m\u001b[38;5;124mD->D\u001b[39m\u001b[38;5;124m'\u001b[39m \u001b[38;5;28;01mif\u001b[39;00m isComplexType(t) \u001b[38;5;28;01melse\u001b[39;00m \u001b[38;5;124m'\u001b[39m\u001b[38;5;124md->d\u001b[39m\u001b[38;5;124m'\u001b[39m\n\u001b[0;32m    537\u001b[0m extobj \u001b[38;5;241m=\u001b[39m get_linalg_error_extobj(_raise_linalgerror_singular)\n\u001b[1;32m--> 538\u001b[0m ainv \u001b[38;5;241m=\u001b[39m \u001b[43m_umath_linalg\u001b[49m\u001b[38;5;241;43m.\u001b[39;49m\u001b[43minv\u001b[49m\u001b[43m(\u001b[49m\u001b[43ma\u001b[49m\u001b[43m,\u001b[49m\u001b[43m \u001b[49m\u001b[43msignature\u001b[49m\u001b[38;5;241;43m=\u001b[39;49m\u001b[43msignature\u001b[49m\u001b[43m,\u001b[49m\u001b[43m \u001b[49m\u001b[43mextobj\u001b[49m\u001b[38;5;241;43m=\u001b[39;49m\u001b[43mextobj\u001b[49m\u001b[43m)\u001b[49m\n\u001b[0;32m    539\u001b[0m \u001b[38;5;28;01mreturn\u001b[39;00m wrap(ainv\u001b[38;5;241m.\u001b[39mastype(result_t, copy\u001b[38;5;241m=\u001b[39m\u001b[38;5;28;01mFalse\u001b[39;00m))\n",
      "File \u001b[1;32mc:\\Users\\Adity\\AppData\\Local\\Programs\\Python\\Python310\\lib\\site-packages\\numpy\\linalg\\linalg.py:89\u001b[0m, in \u001b[0;36m_raise_linalgerror_singular\u001b[1;34m(err, flag)\u001b[0m\n\u001b[0;32m     88\u001b[0m \u001b[38;5;28;01mdef\u001b[39;00m \u001b[38;5;21m_raise_linalgerror_singular\u001b[39m(err, flag):\n\u001b[1;32m---> 89\u001b[0m     \u001b[38;5;28;01mraise\u001b[39;00m LinAlgError(\u001b[38;5;124m\"\u001b[39m\u001b[38;5;124mSingular matrix\u001b[39m\u001b[38;5;124m\"\u001b[39m)\n",
      "\u001b[1;31mLinAlgError\u001b[0m: Singular matrix"
     ]
    }
   ],
   "source": [
    "print(\"We use the matrix H'\")\n",
    "\n",
    "V_regular = np.zeros((sigma_n,POINTS_NUM))\n",
    "V_minres = np.zeros((sigma_n,POINTS_NUM))\n",
    "for i in range(sigma_n):\n",
    "    V_regular[i] = np.dot(np.linalg.inv(sigma[i]*np.eye(POINTS_NUM) - H_prime),S)\n",
    "    V_minres[i], exitcode = minres((sigma[i]*np.eye(POINTS_NUM) - H_prime), S, maxiter = maxit, tol = np.float32(1e-9))\n",
    "    \n",
    "for i in range(sigma_n):\n",
    "    print(\"\\nSigma = \", sigma[i])\n",
    "    print(\"Maximal difference between any component of Vi calculated by MINRES, and that calculated by the exact solver = \", max(abs(V_minres[i] - V_regular[i])))\n",
    "    print(\"Smallest Component in V (exact) = \", min(abs(V_regular[i])))\n",
    "    print(\"Median Component by magnitude in V (exact) = \", np.median(np.sort(abs(V_regular[i]))))\n",
    "    print(\"Exitcode = \", exitcode)\n"
   ]
  },
  {
   "cell_type": "markdown",
   "metadata": {},
   "source": [
    "Examining the outcome for a single sigma value"
   ]
  },
  {
   "cell_type": "code",
   "execution_count": null,
   "metadata": {},
   "outputs": [
    {
     "ename": "NameError",
     "evalue": "name 'sigma' is not defined",
     "output_type": "error",
     "traceback": [
      "\u001b[1;31m---------------------------------------------------------------------------\u001b[0m",
      "\u001b[1;31mNameError\u001b[0m                                 Traceback (most recent call last)",
      "Input \u001b[1;32mIn [9]\u001b[0m, in \u001b[0;36m<cell line: 1>\u001b[1;34m()\u001b[0m\n\u001b[1;32m----> 1\u001b[0m \u001b[38;5;28mprint\u001b[39m(\u001b[38;5;124m\"\u001b[39m\u001b[38;5;124mSigma = \u001b[39m\u001b[38;5;124m\"\u001b[39m, \u001b[43msigma\u001b[49m[\u001b[38;5;241m1\u001b[39m])\n\u001b[0;32m      2\u001b[0m \u001b[38;5;28mprint\u001b[39m(\u001b[38;5;124m\"\u001b[39m\u001b[38;5;130;01m\\n\u001b[39;00m\u001b[38;5;124mVi by exact solver = \u001b[39m\u001b[38;5;124m\"\u001b[39m, V_regular[\u001b[38;5;241m1\u001b[39m])\n\u001b[0;32m      3\u001b[0m \u001b[38;5;28mprint\u001b[39m(\u001b[38;5;124m\"\u001b[39m\u001b[38;5;130;01m\\n\u001b[39;00m\u001b[38;5;124mVi by MINRES = \u001b[39m\u001b[38;5;124m\"\u001b[39m, V_minres[\u001b[38;5;241m1\u001b[39m])\n",
      "\u001b[1;31mNameError\u001b[0m: name 'sigma' is not defined"
     ]
    }
   ],
   "source": [
    "print(\"Sigma = \", sigma[1])\n",
    "print(\"\\nVi by exact solver = \", V_regular[1])\n",
    "print(\"\\nVi by MINRES = \", V_minres[1])\n",
    "print(\"\\nThe Vi(regular) - Vi(MINRES) = \", V_regular[1] - V_minres[1])"
   ]
  },
  {
   "cell_type": "markdown",
   "metadata": {},
   "source": [
    "Creating and solving the generalized eigenvalue equation"
   ]
  },
  {
   "cell_type": "code",
   "execution_count": null,
   "metadata": {},
   "outputs": [],
   "source": [
    "#Creating the H and S matrices\n",
    "Hmatrix = np.ones((sigma_n,sigma_n))\n",
    "Smatrix = np.ones((sigma_n,sigma_n))\n",
    "\n",
    "Hmatrix_minres = np.ones((sigma_n,sigma_n))\n",
    "Smatrix_minres = np.ones((sigma_n,sigma_n))\n",
    "\n",
    "matrix = H_prime\n",
    "\n",
    "for i in range(sigma_n):\n",
    "    for j in range(sigma_n):\n",
    "        Hmatrix[i,j]= np.dot(V_regular[i],np.dot(matrix,V_regular[j]))\n",
    "        Hmatrix_minres[i,j]= np.dot(V_minres[i],np.dot(matrix,V_minres[j]))\n",
    "        Smatrix[i,j] = np.dot(V_regular[i],V_regular[j])\n",
    "        Smatrix_minres[i,j] = np.dot(V_minres[i],V_minres[j])\n",
    "\n",
    "\n",
    "print(Hmatrix.shape)\n",
    "print(Smatrix.shape) "
   ]
  },
  {
   "cell_type": "markdown",
   "metadata": {},
   "source": [
    "Solving the generalized eigenvalue equation"
   ]
  },
  {
   "cell_type": "code",
   "execution_count": null,
   "metadata": {},
   "outputs": [],
   "source": [
    "def eigenvalues_in_range(matrix, sigma_lower = sigma_lower, sigma_upper = sigma_upper):\n",
    "    # Calculate eigenvalues\n",
    "    eigenvalues = np.linalg.eigvals(matrix)\n",
    "\n",
    "    # Filter eigenvalues within the specified range\n",
    "    eigenvalues_in_range = [eigval for eigval in eigenvalues if sigma_lower <= eigval <= sigma_upper]\n",
    "\n",
    "    return eigenvalues_in_range\n",
    "\n",
    "\n",
    "\n",
    "eigenvalues_filtered_H_prime = eigenvalues_in_range(H_prime)\n",
    "\n",
    "\n",
    "\n",
    "\n",
    "eigvals, eigvecs = scipy.linalg.eigh(Hmatrix, b = Smatrix,eigvals_only=False)\n",
    "eigvals_minres, eigvecs_minres = scipy.linalg.eigh(Hmatrix_minres, b = Smatrix_minres,eigvals_only=False)\n",
    "print(\"The sigma values are - \", sigma)\n",
    "print(\"Exact Solver : Solved eigenvalues - \", eigvals)\n",
    "print(\"MINRES : Solved eigenvalues - \", eigvals_minres)\n",
    "print(\"Std. Solver's e-values - MINRES e-values = \", eigvals - eigvals_minres)\n",
    "#print(\"The Symmetric Matrix B's eigenvalues between 0 to 2 are : \", eigB[:8])\n",
    "print(f\"The Matrix H prime's eigenvalues between {sigma_lower} to {sigma_upper}are : {eigenvalues_filtered_H_prime} \")\n",
    "#eigvalMINRES, exitcode = minres(Hmatrix, Smatrix)"
   ]
  },
  {
   "cell_type": "markdown",
   "metadata": {},
   "source": [
    "Performing SVD"
   ]
  },
  {
   "cell_type": "code",
   "execution_count": null,
   "metadata": {},
   "outputs": [],
   "source": [
    "S_evals, S_evecs = np.linalg.eig(Smatrix)\n",
    "\n",
    "S_evecs = S_evecs.T\n",
    "\n",
    "Lambda = S_evals*np.eye(sigma_n,sigma_n)\n",
    "Z = S_evecs[:(sigma_n - dropped_elements)]\n",
    "Lambda_Trunc = S_evals[:(sigma_n - dropped_elements)]*np.eye(sigma_n - dropped_elements,sigma_n - dropped_elements)\n",
    "\n",
    "\n",
    "spl_Z = Z[1:]\n",
    "spl_Lambda_Trunc = S_evals[1:(sigma_n - dropped_elements)]*np.eye(sigma_n - dropped_elements-1,sigma_n - dropped_elements-1)\n",
    "\n",
    "S_evals_minres, S_evecs_minres = np.linalg.eig(Smatrix_minres)\n",
    "\n",
    "S_evecs_minres = S_evecs_minres.T\n",
    "\n",
    "Lambda_minres = S_evals_minres*np.eye(sigma_n,sigma_n)\n",
    "Z_minres = S_evecs_minres[:(sigma_n - dropped_elements)]\n",
    "Lambda_Trunc_minres = S_evals_minres[:(sigma_n - dropped_elements)]*np.eye(sigma_n - dropped_elements,sigma_n - dropped_elements)\n",
    "\n",
    "\n",
    "spl_Z_minres = Z[1:]\n",
    "spl_Lambda_Trunc_minres = S_evals_minres[1:(sigma_n - dropped_elements)]*np.eye(sigma_n - dropped_elements-1,sigma_n - dropped_elements-1)\n",
    "\n"
   ]
  },
  {
   "cell_type": "code",
   "execution_count": null,
   "metadata": {},
   "outputs": [],
   "source": [
    "#Solving the Generalized EV equation\n",
    "eigvals1, eigvecs1 = scipy.linalg.eigh(Hmatrix, b = Smatrix,eigvals_only=False)\n",
    "eigvals_minres1, eigvecs_minres1 = scipy.linalg.eigh(Hmatrix_minres, b = Smatrix_minres,eigvals_only=False)\n",
    "print(\"The sigma values are - \", sigma)\n",
    "print(\"Exact Solver : Solved eigenvalues - \", eigvals1)\n",
    "print(\"MINRES : Solved eigenvalues - \", eigvals_minres1)\n",
    "print(\"Std. Solver's e-values - MINRES e-values = \", eigvals1 - eigvals_minres1)\n",
    "#print(\"The Symmetric Matrix B's eigenvalues between 0 to 2 are : \", eigB[:8])\n",
    "print(f\"The Matrix H prime's eigenvalues between {sigma_lower} to {sigma_upper}are : {eigenvalues_filtered_H_prime} \")\n",
    "#eigvalMINRES, exitcode = minres(Hmatrix, Smatrix)"
   ]
  }
 ],
 "metadata": {
  "kernelspec": {
   "display_name": "Python 3",
   "language": "python",
   "name": "python3"
  },
  "language_info": {
   "codemirror_mode": {
    "name": "ipython",
    "version": 3
   },
   "file_extension": ".py",
   "mimetype": "text/x-python",
   "name": "python",
   "nbconvert_exporter": "python",
   "pygments_lexer": "ipython3",
   "version": "3.10.5"
  }
 },
 "nbformat": 4,
 "nbformat_minor": 2
}
