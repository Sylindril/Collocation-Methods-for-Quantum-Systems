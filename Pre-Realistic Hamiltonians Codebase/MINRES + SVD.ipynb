{
 "cells": [
  {
   "cell_type": "code",
   "execution_count": 2,
   "metadata": {},
   "outputs": [
    {
     "name": "stdout",
     "output_type": "stream",
     "text": [
      "Hello World\n"
     ]
    }
   ],
   "source": [
    "import numpy as np\n",
    "import scipy\n",
    "import matplotlib.pyplot as plt\n",
    "from minresScipy import *\n",
    "import math\n",
    "print(\"Hello World\")\n",
    "sigma_n = 8\n",
    "eta = 0.1\n",
    "maxit = 200000\n",
    "dropped_elements = 3"
   ]
  },
  {
   "cell_type": "code",
   "execution_count": 3,
   "metadata": {},
   "outputs": [
    {
     "name": "stdout",
     "output_type": "stream",
     "text": [
      "(100, 100)\n"
     ]
    }
   ],
   "source": [
    "#Generating a random matrix\n",
    "np.random.seed(42)\n",
    "M = np.random.rand(100,100)\n",
    "\n",
    "#Making it symmetric\n",
    "A = M  + M.T\n",
    "print(A.shape)"
   ]
  },
  {
   "cell_type": "code",
   "execution_count": 4,
   "metadata": {},
   "outputs": [],
   "source": [
    "#Finding the eigenvalues and eigenvectors for the matrix and sorting them in ascending order\n",
    "eig = np.linalg.eigvals(A)\n",
    "idx = np.argsort(eig)\n",
    "eig = eig[idx]"
   ]
  },
  {
   "cell_type": "code",
   "execution_count": 5,
   "metadata": {},
   "outputs": [
    {
     "name": "stdout",
     "output_type": "stream",
     "text": [
      "[-7.66626301 -7.52653281 -7.38795919 -6.81578811 -6.44625297 -6.27392009\n",
      " -6.17304611 -6.03464896 -5.912434   -5.72710618]\n"
     ]
    }
   ],
   "source": [
    "print(eig[0:10])\n",
    "#Thus, the smallest eigenvalue is roughly - 8"
   ]
  },
  {
   "cell_type": "code",
   "execution_count": 6,
   "metadata": {},
   "outputs": [],
   "source": [
    "B = A + 8*np.eye(100,100)#Making a new, symmetric, positive eigenvalue matrix"
   ]
  },
  {
   "cell_type": "code",
   "execution_count": 7,
   "metadata": {},
   "outputs": [
    {
     "name": "stdout",
     "output_type": "stream",
     "text": [
      "(100,)\n"
     ]
    }
   ],
   "source": [
    "eigB = np.linalg.eigvals(B)\n",
    "idxB = np.argsort(eigB)\n",
    "eigB = eigB[idxB]\n",
    "print(eigB.shape)"
   ]
  },
  {
   "cell_type": "code",
   "execution_count": 8,
   "metadata": {},
   "outputs": [
    {
     "name": "stdout",
     "output_type": "stream",
     "text": [
      "[0.33373699 0.47346719 0.61204081 1.18421189 1.55374703 1.72607991\n",
      " 1.82695389 1.96535104 2.087566   2.27289382]\n",
      "[ 13.86220404  14.04737442  14.33009261  14.62702686  14.74964344\n",
      "  14.96476281  15.15227771  15.46541207  15.88436675 106.95921291]\n"
     ]
    }
   ],
   "source": [
    "#Thus, B has only positive eigenvalues and is symmetric\n",
    "print(eigB[0:10])\n",
    "print(eigB[90:])"
   ]
  },
  {
   "cell_type": "code",
   "execution_count": 9,
   "metadata": {},
   "outputs": [
    {
     "name": "stdout",
     "output_type": "stream",
     "text": [
      "[0.         0.28571429 0.57142857 0.85714286 1.14285714 1.42857143\n",
      " 1.71428571 2.        ]\n"
     ]
    }
   ],
   "source": [
    "#Picking sigma to be uniformly distributed between 3 and 11\n",
    "\n",
    "sigma = np.linspace(0,2,sigma_n )\n",
    "print(sigma)"
   ]
  },
  {
   "cell_type": "code",
   "execution_count": 10,
   "metadata": {},
   "outputs": [],
   "source": [
    "#Generate the random vector\n",
    "s = np.random.normal(0, 1, 100)\n",
    "\n",
    "norm=math.sqrt(sum(s*s))\n",
    "S=s/norm\n"
   ]
  },
  {
   "cell_type": "code",
   "execution_count": 11,
   "metadata": {},
   "outputs": [
    {
     "name": "stdout",
     "output_type": "stream",
     "text": [
      "For a symmetric matrix B\n"
     ]
    },
    {
     "name": "stdout",
     "output_type": "stream",
     "text": [
      "\n",
      "Sigma =  0.0\n",
      "Maximal difference between any component of Vi calculated by MINRES, and that calculated by the exact solver =  5.887340897778315e-09\n",
      "Smallest Component in V (exact) =  0.00015856367477746006\n",
      "Median Component by magnitude in V (exact) =  0.040948070424067534\n",
      "Exitcode =  0\n",
      "\n",
      "Sigma =  0.2857142857142857\n",
      "Maximal difference between any component of Vi calculated by MINRES, and that calculated by the exact solver =  4.847405907226765e-08\n",
      "Smallest Component in V (exact) =  0.005483449607938949\n",
      "Median Component by magnitude in V (exact) =  0.22813110665447367\n",
      "Exitcode =  0\n",
      "\n",
      "Sigma =  0.5714285714285714\n",
      "Maximal difference between any component of Vi calculated by MINRES, and that calculated by the exact solver =  7.605219370931948e-08\n",
      "Smallest Component in V (exact) =  0.00447250695536839\n",
      "Median Component by magnitude in V (exact) =  0.22347734036113653\n",
      "Exitcode =  0\n",
      "\n",
      "Sigma =  0.8571428571428571\n",
      "Maximal difference between any component of Vi calculated by MINRES, and that calculated by the exact solver =  3.023180886966431e-08\n",
      "Smallest Component in V (exact) =  2.9489691283801633e-05\n",
      "Median Component by magnitude in V (exact) =  0.04941219342508836\n",
      "Exitcode =  0\n",
      "\n",
      "Sigma =  1.1428571428571428\n",
      "Maximal difference between any component of Vi calculated by MINRES, and that calculated by the exact solver =  1.140501249422346e-07\n",
      "Smallest Component in V (exact) =  0.0030183307234438635\n",
      "Median Component by magnitude in V (exact) =  0.20478456360791858\n",
      "Exitcode =  0\n",
      "\n",
      "Sigma =  1.4285714285714284\n",
      "Maximal difference between any component of Vi calculated by MINRES, and that calculated by the exact solver =  1.56265278009049e-08\n",
      "Smallest Component in V (exact) =  0.005210401487893104\n",
      "Median Component by magnitude in V (exact) =  0.0642001318316885\n",
      "Exitcode =  0\n",
      "\n",
      "Sigma =  1.7142857142857142\n",
      "Maximal difference between any component of Vi calculated by MINRES, and that calculated by the exact solver =  1.9063961531617934e-07\n",
      "Smallest Component in V (exact) =  0.0065426860752215155\n",
      "Median Component by magnitude in V (exact) =  0.5138652810502038\n",
      "Exitcode =  0\n",
      "\n",
      "Sigma =  2.0\n",
      "Maximal difference between any component of Vi calculated by MINRES, and that calculated by the exact solver =  4.265621587895563e-08\n",
      "Smallest Component in V (exact) =  0.0005750099291189428\n",
      "Median Component by magnitude in V (exact) =  0.1561581016628091\n",
      "Exitcode =  0\n",
      "\n",
      "\n",
      "For an asymmetric matrix C\n",
      "\n",
      "Sigma =  0.0\n",
      "Maximal difference between any component of Vi calculated by MINRES, and that calculated by the exact solver =  2.5775115264359272e-08\n",
      "Smallest Component in V (exact) =  0.0004770039151429876\n",
      "Median Component by magnitude in V (exact) =  0.047107132640725934\n",
      "Exitcode =  0\n",
      "\n",
      "Sigma =  0.2857142857142857\n",
      "Maximal difference between any component of Vi calculated by MINRES, and that calculated by the exact solver =  0.07865486501224739\n",
      "Smallest Component in V (exact) =  0.007248580161588004\n",
      "Median Component by magnitude in V (exact) =  0.5921640640125228\n",
      "Exitcode =  0\n",
      "\n",
      "Sigma =  0.5714285714285714\n",
      "Maximal difference between any component of Vi calculated by MINRES, and that calculated by the exact solver =  0.004239812525921427\n",
      "Smallest Component in V (exact) =  0.0005678278750139432\n",
      "Median Component by magnitude in V (exact) =  0.15497380086072027\n",
      "Exitcode =  0\n",
      "\n",
      "Sigma =  0.8571428571428571\n",
      "Maximal difference between any component of Vi calculated by MINRES, and that calculated by the exact solver =  5.057432236610371e-06\n",
      "Smallest Component in V (exact) =  0.0016036213537181168\n",
      "Median Component by magnitude in V (exact) =  0.049251157674754784\n",
      "Exitcode =  0\n",
      "\n",
      "Sigma =  1.1428571428571428\n",
      "Maximal difference between any component of Vi calculated by MINRES, and that calculated by the exact solver =  0.04114487622609764\n",
      "Smallest Component in V (exact) =  0.0005053525580204291\n",
      "Median Component by magnitude in V (exact) =  0.1604541298914843\n",
      "Exitcode =  0\n",
      "\n",
      "Sigma =  1.4285714285714284\n",
      "Maximal difference between any component of Vi calculated by MINRES, and that calculated by the exact solver =  0.003819571415780789\n",
      "Smallest Component in V (exact) =  0.0007423930798986771\n",
      "Median Component by magnitude in V (exact) =  0.052046661218109275\n",
      "Exitcode =  0\n",
      "\n",
      "Sigma =  1.7142857142857142\n",
      "Maximal difference between any component of Vi calculated by MINRES, and that calculated by the exact solver =  0.10539952092386806\n",
      "Smallest Component in V (exact) =  0.00045876857833981877\n",
      "Median Component by magnitude in V (exact) =  0.10790155176894936\n",
      "Exitcode =  0\n",
      "\n",
      "Sigma =  2.0\n",
      "Maximal difference between any component of Vi calculated by MINRES, and that calculated by the exact solver =  0.04490430494610542\n",
      "Smallest Component in V (exact) =  0.0022187860719076885\n",
      "Median Component by magnitude in V (exact) =  0.13296125844115259\n",
      "Exitcode =  0\n"
     ]
    }
   ],
   "source": [
    "#Creating Vi\n",
    "print(\"For a symmetric matrix B\")\n",
    "\n",
    "V = np.zeros((sigma_n,100))\n",
    "V_minres = np.zeros((sigma_n,100))\n",
    "for i in range(sigma_n):\n",
    "    V[i] = np.dot(np.linalg.inv(sigma[i]*np.eye(100) - B),S)\n",
    "    V_minres[i], exitcode = minres((sigma[i]*np.eye(100) - B), S, maxiter = maxit, tol = np.float32(1e-9))\n",
    "    \n",
    "for i in range(sigma_n):\n",
    "    print(\"\\nSigma = \", sigma[i])\n",
    "    print(\"Maximal difference between any component of Vi calculated by MINRES, and that calculated by the exact solver = \", max(abs(V_minres[i] - V[i])))\n",
    "    print(\"Smallest Component in V (exact) = \", min(abs(V[i])))\n",
    "    print(\"Median Component by magnitude in V (exact) = \", np.median(np.sort(abs(V[i]))))\n",
    "    print(\"Exitcode = \", exitcode)\n",
    "\n",
    "print(\"\\n\\nFor an asymmetric matrix C\")\n",
    "\n",
    "del_B = np.random.rand(100,100)\n",
    "\n",
    "C = B + eta*del_B\n",
    "V = np.zeros((sigma_n,100))\n",
    "\n",
    "eigC = np.linalg.eigvals(C)\n",
    "idxC = np.argsort(eigC)\n",
    "eigC = eigC[idxC]\n",
    "\n",
    "\n",
    "V_minres = np.zeros((sigma_n,100))\n",
    "for i in range(sigma_n):\n",
    "    V[i] = np.dot(np.linalg.inv(sigma[i]*np.eye(100) - C),S)\n",
    "    V_minres[i], exitcode = minres((sigma[i]*np.eye(100) - C), S, maxiter = maxit, tol = np.float32(1e-9))\n",
    "    \n",
    "for i in range(sigma_n):\n",
    "    print(\"\\nSigma = \", sigma[i])\n",
    "    print(\"Maximal difference between any component of Vi calculated by MINRES, and that calculated by the exact solver = \", max(abs(V_minres[i] - V[i])))\n",
    "    print(\"Smallest Component in V (exact) = \", min(abs(V[i])))\n",
    "    print(\"Median Component by magnitude in V (exact) = \", np.median(np.sort(abs(V[i]))))\n",
    "    print(\"Exitcode = \", exitcode)\n",
    "\n",
    "# V_minres = np.zeros((5,100))\n",
    "# for i in range(5):\n",
    "#     V_minres[i] = minres(sigma[i]*np.eye(100) - B,S)\n",
    "\n",
    "\n",
    "# print(V_minres.shape)\n",
    "\n",
    "\n"
   ]
  },
  {
   "cell_type": "code",
   "execution_count": 12,
   "metadata": {},
   "outputs": [
    {
     "name": "stdout",
     "output_type": "stream",
     "text": [
      "Sigma =  0.2857142857142857\n",
      "\n",
      "Vi by exact solver =  [ 0.66287752 -0.32550643 -0.40742791  0.76701949  1.62040729 -0.68107521\n",
      " -0.00724858  1.51098087 -1.36407426 -0.30170181 -0.97043902  0.49451132\n",
      "  0.04831573  1.22899512  1.72784459  0.23597951  0.30411601 -0.52978204\n",
      "  1.39723949 -0.775345   -0.15283918 -0.04249382 -0.15505744 -1.04276619\n",
      "  0.56900972 -1.10309869  2.11234615 -0.6791993   0.22558485  0.86801801\n",
      " -0.27678545  0.31699837  1.21357617  0.56230054 -0.67206654 -0.86036358\n",
      "  0.69674419 -1.34600518 -0.74533319 -1.33999463  1.14400928  1.6105238\n",
      " -1.06529115 -0.40224531 -1.19173572  0.2471094   0.8489504  -0.60185854\n",
      " -1.30934324  0.51034426  0.03296475  1.07040441 -1.38684802  0.34454635\n",
      "  1.01129369  0.58766424 -0.09910524 -0.51616559 -0.0225105  -0.22576612\n",
      " -0.21281392  0.53808868  1.66524904 -1.11596536 -1.43953274  0.31189236\n",
      " -0.03931334 -0.97831989  1.20067289 -0.19061393  0.58185396  0.48709103\n",
      " -0.33164898  0.60859089 -0.55108456  0.18868458 -0.50442314  0.09202231\n",
      "  0.05892181  0.22821383 -0.27336141  0.50881062 -1.12874729  0.15607256\n",
      "  0.97258142  0.57280432  1.41002925 -0.4992813  -2.30386352  0.47222302\n",
      "  0.76227211 -0.20569886  0.35327984 -0.59666389  0.05878216 -1.4170646\n",
      " -0.99923774  0.69706263 -1.91514003 -0.78143568]\n",
      "\n",
      "Vi by MINRES =  [ 0.68543901 -0.33728219 -0.42063445  0.79032557  1.67532346 -0.7017251\n",
      " -0.00697271  1.56045175 -1.41121719 -0.31407137 -1.00123092  0.50865197\n",
      "  0.04890116  1.27285265  1.78719866  0.24459608  0.31498283 -0.54600795\n",
      "  1.44325363 -0.80200511 -0.15650191 -0.04206026 -0.16129174 -1.07742953\n",
      "  0.5887242  -1.13769937  2.18259027 -0.70292122  0.2355464   0.89345558\n",
      " -0.28620121  0.32807086  1.25478456  0.58323275 -0.69657856 -0.89148204\n",
      "  0.71966878 -1.39007823 -0.76899157 -1.38696529  1.18105083  1.66413706\n",
      " -1.10397969 -0.41540649 -1.23170506  0.25368173  0.87783754 -0.62229211\n",
      " -1.35315921  0.52885456  0.03368948  1.10857899 -1.43462215  0.35408501\n",
      "  1.04647383  0.60849916 -0.10286643 -0.52992755 -0.02103029 -0.23347779\n",
      " -0.22260524  0.55555509  1.72019705 -1.15343715 -1.48844195  0.32257856\n",
      " -0.03901064 -1.01192654  1.24028121 -0.19510262  0.60299298  0.50487905\n",
      " -0.34360253  0.62861827 -0.56885753  0.19444034 -0.52196576  0.09377317\n",
      "  0.06075289  0.23447798 -0.28196332  0.52581925 -1.16850647  0.16226939\n",
      "  1.00641479  0.59187131  1.4583156  -0.51755849 -2.38251838  0.49009776\n",
      "  0.78897584 -0.21349256  0.36659732 -0.61589028  0.05995132 -1.46539322\n",
      " -1.03374593  0.72108446 -1.97995832 -0.80738552]\n",
      "\n",
      "The Vi(regular) - Vi(MINRES) =  [-0.0225615   0.01177576  0.01320654 -0.02330608 -0.05491618  0.02064988\n",
      " -0.00027587 -0.04947088  0.04714293  0.01236955  0.03079189 -0.01414064\n",
      " -0.00058543 -0.04385754 -0.05935407 -0.00861657 -0.01086682  0.01622592\n",
      " -0.04601415  0.0266601   0.00366273 -0.00043355  0.0062343   0.03466333\n",
      " -0.01971448  0.03460068 -0.07024412  0.02372192 -0.00996155 -0.02543757\n",
      "  0.00941576 -0.01107249 -0.04120839 -0.02093221  0.02451202  0.03111846\n",
      " -0.02292459  0.04407305  0.02365838  0.04697066 -0.03704154 -0.05361325\n",
      "  0.03868855  0.01316118  0.03996934 -0.00657233 -0.02888714  0.02043357\n",
      "  0.04381597 -0.0185103  -0.00072473 -0.03817458  0.04777413 -0.00953866\n",
      " -0.03518014 -0.02083492  0.00376119  0.01376196 -0.00148022  0.00771167\n",
      "  0.00979132 -0.01746641 -0.054948    0.03747179  0.04890921 -0.0106862\n",
      " -0.00030271  0.03360666 -0.03960832  0.00448869 -0.02113902 -0.01778802\n",
      "  0.01195355 -0.02002738  0.01777297 -0.00575576  0.01754262 -0.00175086\n",
      " -0.00183108 -0.00626415  0.00860192 -0.01700863  0.03975918 -0.00619683\n",
      " -0.03383337 -0.01906699 -0.04828634  0.01827719  0.07865487 -0.01787475\n",
      " -0.02670373  0.00779371 -0.01331748  0.01922639 -0.00116917  0.04832862\n",
      "  0.03450818 -0.02402182  0.06481829  0.02594984]\n"
     ]
    }
   ],
   "source": [
    "print(\"Sigma = \", sigma[1])\n",
    "print(\"\\nVi by exact solver = \", V[1])\n",
    "print(\"\\nVi by MINRES = \", V_minres[1])\n",
    "print(\"\\nThe Vi(regular) - Vi(MINRES) = \", V[1] - V_minres[1])"
   ]
  },
  {
   "cell_type": "code",
   "execution_count": 13,
   "metadata": {},
   "outputs": [
    {
     "name": "stdout",
     "output_type": "stream",
     "text": [
      "(8, 8)\n",
      "(8, 8)\n"
     ]
    }
   ],
   "source": [
    "#Creating the H and S matrices\n",
    "Hmatrix = np.ones((sigma_n,sigma_n))\n",
    "Smatrix = np.ones((sigma_n,sigma_n))\n",
    "\n",
    "Hmatrix_minres = np.ones((sigma_n,sigma_n))\n",
    "Smatrix_minres = np.ones((sigma_n,sigma_n))\n",
    "\n",
    "matrix = C\n",
    "\n",
    "for i in range(sigma_n):\n",
    "    for j in range(sigma_n):\n",
    "        Hmatrix[i,j]= np.dot(V[i],np.dot(matrix,V[j]))\n",
    "        Hmatrix_minres[i,j]= np.dot(V_minres[i],np.dot(matrix,V_minres[j]))\n",
    "        Smatrix[i,j] = np.dot(V[i],V[j])\n",
    "        Smatrix_minres[i,j] = np.dot(V_minres[i],V_minres[j])\n",
    "\n",
    "\n",
    "print(Hmatrix.shape)\n",
    "print(Smatrix.shape) \n",
    "     "
   ]
  },
  {
   "cell_type": "code",
   "execution_count": 14,
   "metadata": {},
   "outputs": [
    {
     "name": "stdout",
     "output_type": "stream",
     "text": [
      "The sigma values are -  [0.         0.28571429 0.57142857 0.85714286 1.14285714 1.42857143\n",
      " 1.71428571 2.        ]\n",
      "Exact Solver : Solved eigenvalues -  [0.28155085 0.38871268 0.61073415 1.12918114 1.23924437 1.77802861\n",
      " 1.96073448 5.05920288]\n",
      "MINRES : Solved eigenvalues -  [0.28241256 0.38962445 0.61461117 1.16520011 1.2589639  1.77911166\n",
      " 1.96007326 5.06168558]\n",
      "Std. Solver's e-values - MINRES e-values =  [-0.00086172 -0.00091177 -0.00387702 -0.03601897 -0.01971953 -0.00108305\n",
      "  0.00066123 -0.0024827 ]\n",
      "The Matrix C's eigenvalues between 0 to 2 are :  [0.30600681+0.j 0.47116611+0.j 0.62145712+0.j 1.20037851+0.j\n",
      " 1.56333869+0.j 1.78680822+0.j 1.80685972+0.j 1.9473276 +0.j]\n"
     ]
    }
   ],
   "source": [
    "eigvals, eigvecs = scipy.linalg.eigh(Hmatrix, b = Smatrix,eigvals_only=False)\n",
    "eigvals_minres, eigvecs_minres = scipy.linalg.eigh(Hmatrix_minres, b = Smatrix_minres,eigvals_only=False)\n",
    "print(\"The sigma values are - \", sigma)\n",
    "print(\"Exact Solver : Solved eigenvalues - \", eigvals)\n",
    "print(\"MINRES : Solved eigenvalues - \", eigvals_minres)\n",
    "print(\"Std. Solver's e-values - MINRES e-values = \", eigvals - eigvals_minres)\n",
    "#print(\"The Symmetric Matrix B's eigenvalues between 0 to 2 are : \", eigB[:8])\n",
    "print(\"The Matrix C's eigenvalues between 0 to 2 are : \", eigC[:8])\n",
    "#eigvalMINRES, exitcode = minres(Hmatrix, Smatrix)\n"
   ]
  },
  {
   "attachments": {},
   "cell_type": "markdown",
   "metadata": {},
   "source": [
    "### Using SVD"
   ]
  },
  {
   "cell_type": "code",
   "execution_count": 20,
   "metadata": {},
   "outputs": [
    {
     "name": "stdout",
     "output_type": "stream",
     "text": [
      "[7.91232642e+01 7.38224297e+00 5.33008937e+00 4.04890779e+00\n",
      " 1.99642527e+00 6.40922824e-03 5.75477058e-02 1.70987239e-01]\n",
      "[8.45084894e+01 8.17327248e+00 5.38893978e+00 4.63195786e+00\n",
      " 1.23079138e+00 7.37086261e-03 5.67534651e-02 1.44106510e-01]\n",
      "(8, 5)\n"
     ]
    }
   ],
   "source": [
    "S_evals, S_evecs = np.linalg.eig(Smatrix)\n",
    "print(S_evals)\n",
    "#S_evecs = S_evecs.T\n",
    "\n",
    "Lambda = S_evals*np.eye(sigma_n,sigma_n)\n",
    "Z = S_evecs[:,:(sigma_n - dropped_elements)]\n",
    "Lambda_Trunc = S_evals[:(sigma_n - dropped_elements)]*np.eye(sigma_n - dropped_elements,sigma_n - dropped_elements)\n",
    "\n",
    "\n",
    "spl_Z = Z[:,1:]\n",
    "spl_Lambda_Trunc = S_evals[1:(sigma_n - dropped_elements)]*np.eye(sigma_n - dropped_elements-1,sigma_n - dropped_elements-1)\n",
    "\n",
    "S_evals_minres, S_evecs_minres = np.linalg.eig(Smatrix_minres)\n",
    "print(S_evals_minres)\n",
    "#S_evecs_minres = S_evecs_minres.T\n",
    "\n",
    "Lambda_minres = S_evals_minres*np.eye(sigma_n,sigma_n)\n",
    "Z_minres = S_evecs_minres[:,:(sigma_n - dropped_elements)]\n",
    "Lambda_Trunc_minres = S_evals_minres[:(sigma_n - dropped_elements)]*np.eye(sigma_n - dropped_elements,sigma_n - dropped_elements)\n",
    "\n",
    "\n",
    "spl_Z_minres = Z[:,1:]\n",
    "spl_Lambda_Trunc_minres = S_evals_minres[1:(sigma_n - dropped_elements)]*np.eye(sigma_n - dropped_elements-1,sigma_n - dropped_elements-1)\n",
    "\n",
    "print(Z.shape)\n",
    "# for val, vec in zip( S_evals_minres[:(sigma_n - dropped_elements)],Z.T):\n",
    "#     assert np.allclose(np.dot(Smatrix, vec), val*vec)#Tests if eigenvectors have been correctly extracted\n",
    "\n",
    "# def near(a, b, rtol = 1e-6, atol = 1e-9):\n",
    "#     return np.abs(a-b)<(atol+rtol*np.abs(b))\n",
    "\n",
    "# print(S_evecs[near(S_evals, 4.037*(10**-6))])"
   ]
  },
  {
   "cell_type": "code",
   "execution_count": 21,
   "metadata": {},
   "outputs": [
    {
     "name": "stdout",
     "output_type": "stream",
     "text": [
      "(8, 8)\n"
     ]
    }
   ],
   "source": [
    "print(Hmatrix.shape)"
   ]
  },
  {
   "cell_type": "code",
   "execution_count": 25,
   "metadata": {},
   "outputs": [],
   "source": [
    "Hmatrix_SVD = np.matmul(Z.T, np.matmul(Hmatrix, Z))\n",
    "Smatrix_SVD = Lambda_Trunc\n",
    "\n",
    "Hmatrix_SVD_minres = np.matmul(Z_minres.T, np.matmul(Hmatrix_minres, Z_minres))\n",
    "Smatrix_SVD_minres = Lambda_Trunc_minres\n"
   ]
  },
  {
   "cell_type": "code",
   "execution_count": 26,
   "metadata": {},
   "outputs": [
    {
     "name": "stdout",
     "output_type": "stream",
     "text": [
      "The sigma values are -  [0.         0.28571429 0.57142857 0.85714286 1.14285714 1.42857143\n",
      " 1.71428571 2.        ]\n",
      "Exact Solver : Solved eigenvalues -  [0.3094754  0.62127593 1.2145515  1.87404329 2.1855516 ]\n",
      "MINRES : Solved eigenvalues -  [0.30924045 0.6174179  1.20967327 1.92044705 2.33893937]\n",
      "Std. Solver's e-values - MINRES e-values =  [ 0.00023496  0.00385802  0.00487823 -0.04640376 -0.15338777]\n",
      "The Matrix C's eigenvalues between 0 to 2 are :  [0.30600681+0.j 0.47116611+0.j 0.62145712+0.j 1.20037851+0.j\n",
      " 1.56333869+0.j 1.78680822+0.j 1.80685972+0.j 1.9473276 +0.j]\n"
     ]
    }
   ],
   "source": [
    "#Solving the Generalized EV equation\n",
    "eigvals1, eigvecs1 = scipy.linalg.eigh(Hmatrix_SVD, b = Smatrix_SVD,eigvals_only=False)\n",
    "eigvals_minres1, eigvecs_minres1 = scipy.linalg.eigh(Hmatrix_SVD_minres, b = Smatrix_SVD_minres,eigvals_only=False)\n",
    "print(\"The sigma values are - \", sigma)\n",
    "print(\"Exact Solver : Solved eigenvalues - \", eigvals1)\n",
    "print(\"MINRES : Solved eigenvalues - \", eigvals_minres1)\n",
    "print(\"Std. Solver's e-values - MINRES e-values = \", eigvals1 - eigvals_minres1)\n",
    "#print(\"The Symmetric Matrix B's eigenvalues between 0 to 2 are : \", eigB[:8])\n",
    "print(\"The Matrix C's eigenvalues between 0 to 2 are : \", eigC[:8])\n",
    "#eigvalMINRES, exitcode = minres(Hmatrix, Smatrix)"
   ]
  },
  {
   "cell_type": "markdown",
   "metadata": {},
   "source": []
  },
  {
   "cell_type": "code",
   "execution_count": null,
   "metadata": {},
   "outputs": [
    {
     "name": "stdout",
     "output_type": "stream",
     "text": [
      "[[ 0.06978898  0.99502573 -0.02894576 -0.04715981 -0.03693139 -0.01708892\n",
      "  -0.01258175 -0.01330897]\n",
      " [ 0.04548292  0.03605883  0.04665342  0.17616487  0.95076845 -0.21484374\n",
      "  -0.09753285 -0.06155756]\n",
      " [ 0.05611604  0.01278419  0.97868571 -0.16476444 -0.04292922 -0.05432082\n",
      "  -0.07591822 -0.03401862]\n",
      " [ 0.00662862 -0.00988905 -0.01146335  0.01641531 -0.02518043  0.08218973\n",
      "   0.21140704 -0.97333204]\n",
      " [ 0.05110484  0.02779202  0.11235627  0.11612939  0.12313306  0.19436219\n",
      "   0.93308874  0.21659392]\n",
      " [-0.57230407  0.02828596 -0.03216979 -0.60126686  0.24918143  0.49585649\n",
      "  -0.03041387  0.01487221]\n",
      " [ 0.8119994  -0.07115427 -0.10038561 -0.44028344  0.12046563  0.33604988\n",
      "  -0.06400435  0.01136811]\n",
      " [ 0.01952401  0.04155604  0.12366234  0.6086606   0.02081726  0.73977321\n",
      "  -0.25337003  0.01541673]]\n"
     ]
    }
   ],
   "source": [
    "print(S_evecs)"
   ]
  },
  {
   "cell_type": "code",
   "execution_count": null,
   "metadata": {},
   "outputs": [],
   "source": []
  }
 ],
 "metadata": {
  "kernelspec": {
   "display_name": "Python 3",
   "language": "python",
   "name": "python3"
  },
  "language_info": {
   "codemirror_mode": {
    "name": "ipython",
    "version": 3
   },
   "file_extension": ".py",
   "mimetype": "text/x-python",
   "name": "python",
   "nbconvert_exporter": "python",
   "pygments_lexer": "ipython3",
   "version": "3.10.5"
  },
  "orig_nbformat": 4
 },
 "nbformat": 4,
 "nbformat_minor": 2
}
