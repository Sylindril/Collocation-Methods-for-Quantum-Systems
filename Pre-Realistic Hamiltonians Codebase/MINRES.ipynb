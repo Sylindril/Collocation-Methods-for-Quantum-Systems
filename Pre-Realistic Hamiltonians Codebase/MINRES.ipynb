{
 "cells": [
  {
   "cell_type": "code",
   "execution_count": 1,
   "metadata": {},
   "outputs": [],
   "source": [
    "import numpy as np\n",
    "from numpy import linalg as LA\n",
    "np.random.seed(42)"
   ]
  },
  {
   "cell_type": "code",
   "execution_count": 2,
   "metadata": {},
   "outputs": [],
   "source": [
    "#Setting up the lanczos algorithm\n",
    "# Function to tri-diagonalize a matrix\n",
    "def tridiag(a, b, c, k1=-1, k2=0, k3=1):\n",
    "  return np.diag(a, k1) + np.diag(b, k2) + np.diag(c, k3)\n",
    "\n",
    "# Lanczos algorithm\n",
    "def lanczos(A, v1,m = 10):\n",
    "  np.set_printoptions(precision=3, suppress=True)\n",
    "  # First iteration steps\n",
    "  x, y = [], []\n",
    "  n = m\n",
    "  v2, beta = 0.0, 0.0\n",
    "  v1 = v1/np.linalg.norm(v1)\n",
    "  Q = np.array(v1)\n",
    "\n",
    "  for i in range(n):\n",
    "    # Iteration steps\n",
    "    \n",
    "    w_prime = np.dot(A, v1)\n",
    "    conj = np.matrix.conjugate(w_prime)\n",
    "    alpha = np.dot(conj, v1)\n",
    "    w = w_prime - alpha * v1 - beta * v2\n",
    "    beta = np.linalg.norm(w)\n",
    "    x.append(np.linalg.norm(alpha))\n",
    "    \n",
    "\n",
    "    # Reset\n",
    "    if i < (n-1):\n",
    "        y.append(beta)\n",
    "    v2 = v1\n",
    "    v1 = w/beta\n",
    "    Q = np.column_stack((Q,v1))\n",
    "  return Q, tridiag(y, x, y)\n"
   ]
  },
  {
   "cell_type": "code",
   "execution_count": 3,
   "metadata": {},
   "outputs": [
    {
     "name": "stdout",
     "output_type": "stream",
     "text": [
      "(10, 10)\n",
      "(6, 11)\n"
     ]
    }
   ],
   "source": [
    "A = np.diag([3., 1., 2., 3., 4., 100.])\n",
    "n = A.shape[1]\n",
    "v_0 = np.zeros(n)\n",
    "v_0.fill(1.)\n",
    "v = v_0 / np.linalg.norm(v_0)\n",
    "\n",
    "# Obtaining the tri-diagonal matrix T\n",
    "Q, T = lanczos(A, v)\n",
    "#print(f'Tridiagonalization of A: \\n{T}')\n",
    "\n",
    "# Finding the eigenvalues w and eigenvectors v of the tri-diagonal matrix\n",
    "w, v = LA.eig(T)\n",
    "#print(f'\\nAssociated eigenvalues: \\n{w}')\n",
    "#print(f'\\nAssociated eigenvectors: \\n{v}')\n",
    "print(T.shape)\n",
    "print(Q.shape)\n"
   ]
  },
  {
   "cell_type": "code",
   "execution_count": 4,
   "metadata": {},
   "outputs": [],
   "source": [
    "from minresScipy import *\n"
   ]
  },
  {
   "cell_type": "markdown",
   "metadata": {},
   "source": [
    "The objective of MINRES is to solve Ax = b by minimsing residuals, for a symmetric A. We observe what happens in almost symmetric matrices by doing the following - \n",
    "1. Perform MINRES on a diagonal A\n",
    "2. Perform MINRES on a diagonal A plus disturbances to make it non symmetric.\n",
    "3. Perform MINRES on a symmetric non-diagonal A\n",
    "4. Perform MINRES on a symmetric non-diagonal A plus disturbances to make it non symmetric."
   ]
  },
  {
   "cell_type": "code",
   "execution_count": 5,
   "metadata": {},
   "outputs": [
    {
     "data": {
      "text/plain": [
       "\"\\nmsg = [' beta2 = 0.  If M = I, b and x are eigenvectors    ',   # -1\\n            ' beta1 = 0.  The exact solution is x0          ',   # 0\\n            ' A solution to Ax = b was found, given rtol        ',   # 1\\n            ' A least-squares solution was found, given rtol    ',   # 2\\n            ' Reasonable accuracy achieved, given eps           ',   # 3\\n            ' x has converged to an eigenvector                 ',   # 4\\n            ' acond has exceeded 0.1/eps                        ',   # 5\\n            ' The iteration limit was reached                   ',   # 6\\n            ' A  does not define a symmetric matrix             ',   # 7\\n            ' M  does not define a symmetric matrix             ',   # 8\\n            ' M  does not define a pos-def preconditioner       ']   # 9\\n\\n\""
      ]
     },
     "execution_count": 5,
     "metadata": {},
     "output_type": "execute_result"
    }
   ],
   "source": [
    "'''\n",
    "msg = [' beta2 = 0.  If M = I, b and x are eigenvectors    ',   # -1\n",
    "            ' beta1 = 0.  The exact solution is x0          ',   # 0\n",
    "            ' A solution to Ax = b was found, given rtol        ',   # 1\n",
    "            ' A least-squares solution was found, given rtol    ',   # 2\n",
    "            ' Reasonable accuracy achieved, given eps           ',   # 3\n",
    "            ' x has converged to an eigenvector                 ',   # 4\n",
    "            ' acond has exceeded 0.1/eps                        ',   # 5\n",
    "            ' The iteration limit was reached                   ',   # 6\n",
    "            ' A  does not define a symmetric matrix             ',   # 7\n",
    "            ' M  does not define a symmetric matrix             ',   # 8\n",
    "            ' M  does not define a pos-def preconditioner       ']   # 9\n",
    "\n",
    "'''"
   ]
  },
  {
   "cell_type": "markdown",
   "metadata": {},
   "source": [
    "Diagonal"
   ]
  },
  {
   "cell_type": "code",
   "execution_count": 6,
   "metadata": {},
   "outputs": [
    {
     "name": "stdout",
     "output_type": "stream",
     "text": [
      "x\n",
      "[0.  0.  0.5 0.  0.  0. ]\n",
      "b\n",
      "[0. 0. 1. 0. 0. 0.]\n",
      "0\n"
     ]
    }
   ],
   "source": [
    "#1. Diagonal A\n",
    "\n",
    "A = np.diag([3., 1., 2., 3., 4., 100.])\n",
    "# del_A = np.random.rand(6,6)\n",
    "# A = A + 0.01*del_A\n",
    "eigvals, eigvecs = LA.eig(A)\n",
    "b = eigvecs[2]#np.array([2, 4, -1,5,6,7], dtype=float)\n",
    "\n",
    "x, exitCode = minres(A, b)\n",
    "\n",
    "print(\"x\")\n",
    "print(x)\n",
    "print(\"b\")\n",
    "print(b)\n",
    "print(exitCode)            # 0 indicates successful convergence"
   ]
  },
  {
   "cell_type": "code",
   "execution_count": 7,
   "metadata": {},
   "outputs": [
    {
     "name": "stdout",
     "output_type": "stream",
     "text": [
      "x for eta = 0\n",
      "[0.  0.  0.5 0.  0.  0. ]\n",
      "ExitCode : 0\n",
      "x for eta = 0.001\n",
      "[-0.  -0.   0.5 -0.  -0.  -0. ]\n",
      "ExitCode : 0\n",
      "x for eta = 0.01\n",
      "[-0.66  -0.003  0.502 -0.     0.     0.   ]\n",
      "ExitCode : 0\n",
      "x for eta = 0.02\n",
      "[-0.674 -0.005  0.505 -0.     0.001  0.   ]\n",
      "ExitCode : 0\n",
      "x for eta = 0.03\n",
      "[-0.787 -0.007  0.508  0.001  0.002  0.   ]\n",
      "ExitCode : 0\n",
      "x for eta = 0.1\n",
      "[-1.013 -0.024  0.537  0.004  0.009  0.001]\n",
      "ExitCode : 0\n",
      "x for eta = 0.2\n",
      "[-0.978 -0.049  0.571  0.005  0.018  0.001]\n",
      "ExitCode : 30\n"
     ]
    }
   ],
   "source": [
    "#2. Perturbed Diagonal A\n",
    "\n",
    "b = eigvecs[2]#np.array([2, 4, -1,5,6,7], dtype=float)\n",
    "del_A = np.random.rand(6,6)\n",
    "for eta in [0, 0.001, 0.01, 0.02, 0.03, 0.1, 0.2]:\n",
    "    A = np.diag([0., 1., 2., 3., 4., 100.]) + eta*del_A\n",
    "    x, exitCode = minres(A, b)\n",
    "\n",
    "    print(f\"x for eta = {eta}\")\n",
    "    print(x)\n",
    "\n",
    "    print(\"ExitCode :\",exitCode)"
   ]
  },
  {
   "cell_type": "code",
   "execution_count": 8,
   "metadata": {},
   "outputs": [
    {
     "name": "stdout",
     "output_type": "stream",
     "text": [
      "The matrix A is\n",
      "[[  3.   0.   0.   0.   0.   0.]\n",
      " [  0.   1.   0.   0.   0.   0.]\n",
      " [  0.   0.   2.   0.   0.   0.]\n",
      " [  0.   0.   0.   3.   0.   0.]\n",
      " [  0.   0.   0.   0.   4.   0.]\n",
      " [  0.   0.   0.   0.   0. 100.]]\n",
      "The matrix del_A is\n",
      "[[0.375 0.951 0.732 0.599 0.156 0.156]\n",
      " [0.058 0.866 0.601 0.708 0.021 0.97 ]\n",
      " [0.832 0.212 0.182 0.183 0.304 0.525]\n",
      " [0.432 0.291 0.612 0.139 0.292 0.366]\n",
      " [0.456 0.785 0.2   0.514 0.592 0.046]\n",
      " [0.608 0.171 0.065 0.949 0.966 0.808]]\n"
     ]
    }
   ],
   "source": [
    "print(\"The matrix A is\")\n",
    "print(np.diag([3., 1., 2., 3., 4., 100.]))\n",
    "print(\"The matrix del_A is\")\n",
    "print(del_A)"
   ]
  },
  {
   "cell_type": "markdown",
   "metadata": {},
   "source": [
    "Non - Diagonal"
   ]
  },
  {
   "cell_type": "code",
   "execution_count": 9,
   "metadata": {},
   "outputs": [
    {
     "name": "stdout",
     "output_type": "stream",
     "text": [
      "(6, 6)\n",
      "(6,)\n",
      "x\n",
      "[-0.004 -0.007 -0.007  0.004 -0.005  0.003]\n",
      "0\n"
     ]
    },
    {
     "name": "stderr",
     "output_type": "stream",
     "text": [
      "C:\\Users\\Adity\\AppData\\Local\\Temp\\ipykernel_55212\\3179645864.py:3: DeprecationWarning: This function is deprecated. Please call randint(-100, 100 + 1) instead\n",
      "  m = np.random.random_integers(-100,100,size=(N,N))\n"
     ]
    }
   ],
   "source": [
    "#1. Symmetric A\n",
    "N = 6 #Size of the matrix\n",
    "m = np.random.random_integers(-100,100,size=(N,N))\n",
    "A= (m + m.T)/2\n",
    "eigvals, eigvecs = LA.eig(A)\n",
    "b = eigvecs[2]#np.array([2, 4, -1,5,6,7], dtype=float)\n",
    "x, exitCode = minres(A, b)\n",
    "print(A.shape)\n",
    "print(b.shape)\n",
    "\n",
    "print(\"x\")\n",
    "print(x)\n",
    "\n",
    "print(exitCode) "
   ]
  },
  {
   "cell_type": "code",
   "execution_count": 10,
   "metadata": {},
   "outputs": [
    {
     "name": "stdout",
     "output_type": "stream",
     "text": [
      "b\n",
      "[ 0.363 -0.468 -0.654  0.322 -0.339  0.06 ]\n",
      "x for eta = 0\n",
      "[0.004 0.003 0.003 0.005 0.    0.008]\n",
      "ExitCode : 0\n",
      "x for eta = 0.001\n",
      "[0.004 0.003 0.003 0.005 0.    0.008]\n",
      "ExitCode : 0\n",
      "x for eta = 0.01\n",
      "[0.004 0.003 0.003 0.005 0.    0.008]\n",
      "ExitCode : 0\n",
      "x for eta = 0.02\n",
      "[0.004 0.003 0.003 0.005 0.    0.008]\n",
      "ExitCode : 0\n",
      "x for eta = 0.03\n",
      "[0.004 0.003 0.003 0.005 0.    0.008]\n",
      "ExitCode : 0\n",
      "x for eta = 0.1\n",
      "[0.004 0.003 0.003 0.005 0.    0.008]\n",
      "ExitCode : 0\n",
      "x for eta = 0.2\n",
      "[0.004 0.003 0.003 0.005 0.    0.008]\n",
      "ExitCode : 0\n",
      "x for eta = 0.3\n",
      "[0.004 0.003 0.003 0.005 0.    0.008]\n",
      "ExitCode : 0\n",
      "x for eta = 0.4\n",
      "[0.004 0.003 0.003 0.005 0.    0.008]\n",
      "ExitCode : 0\n",
      "x for eta = 0.5\n",
      "[0.004 0.003 0.003 0.005 0.    0.008]\n",
      "ExitCode : 0\n",
      "x for eta = 0.6\n",
      "[0.004 0.003 0.003 0.005 0.    0.008]\n",
      "ExitCode : 0\n",
      "x for eta = 0.7\n",
      "[0.004 0.003 0.003 0.005 0.    0.008]\n",
      "ExitCode : 0\n",
      "x for eta = 0.8\n",
      "[0.004 0.003 0.003 0.005 0.    0.008]\n",
      "ExitCode : 0\n",
      "x for eta = 10\n",
      "[0.003 0.006 0.005 0.006 0.002 0.007]\n",
      "ExitCode : 0\n",
      "x for eta = 20\n",
      "[0.003 0.013 0.007 0.007 0.005 0.005]\n",
      "ExitCode : 30\n"
     ]
    },
    {
     "name": "stderr",
     "output_type": "stream",
     "text": [
      "C:\\Users\\Adity\\AppData\\Local\\Temp\\ipykernel_55212\\1158544459.py:5: DeprecationWarning: This function is deprecated. Please call randint(-100, 100 + 1) instead\n",
      "  m = np.random.random_integers(-100,100,size=(N,N))\n"
     ]
    }
   ],
   "source": [
    "#2. Perturbed Symmetric A\n",
    "b = eigvecs[2]#np.array([2, 4, -1,5,6,7], dtype=float)\n",
    "print(\"b\")\n",
    "print(b)\n",
    "m = np.random.random_integers(-100,100,size=(N,N))\n",
    "del_A = np.random.rand(6,6)\n",
    "for eta in [0, 0.001, 0.01, 0.02, 0.03, 0.1, 0.2,0.3,0.4,0.5,0.6,0.7,0.8,10,20]:\n",
    "    A= (m + m.T)/2 + eta*del_A\n",
    "    x, exitCode = minres(A, b)\n",
    "\n",
    "    print(f\"x for eta = {eta}\")\n",
    "    print(x)\n",
    "\n",
    "    print(\"ExitCode :\",exitCode)\n",
    "\n"
   ]
  },
  {
   "cell_type": "code",
   "execution_count": 11,
   "metadata": {},
   "outputs": [
    {
     "name": "stdout",
     "output_type": "stream",
     "text": [
      "The matrix A is\n",
      "[[-19.   16.5 -30.  -57.5  -7.5  93.5]\n",
      " [ 16.5 -60.   13.  -24.  -17.  -32.5]\n",
      " [-30.   13.  -92.  -16.5 -34.  -27. ]\n",
      " [-57.5 -24.  -16.5  35.    1.   61.5]\n",
      " [ -7.5 -17.  -34.    1.  -73.  -17. ]\n",
      " [ 93.5 -32.5 -27.   61.5 -17.  -53. ]]\n",
      "The matrix del_A is\n",
      "[[0.371 0.669 0.666 0.591 0.275 0.561]\n",
      " [0.383 0.972 0.849 0.722 0.236 0.256]\n",
      " [0.04  0.711 0.111 0.439 0.202 0.896]\n",
      " [0.475 0.563 0.696 0.139 0.604 0.54 ]\n",
      " [0.203 0.943 0.599 0.695 0.88  0.624]\n",
      " [0.296 0.105 0.457 0.218 0.417 0.883]]\n"
     ]
    }
   ],
   "source": [
    "print(\"The matrix A is\")\n",
    "print((m+m.T)/2)\n",
    "print(\"The matrix del_A is\")\n",
    "print(del_A)"
   ]
  },
  {
   "cell_type": "code",
   "execution_count": null,
   "metadata": {},
   "outputs": [],
   "source": []
  }
 ],
 "metadata": {
  "kernelspec": {
   "display_name": "Python 3",
   "language": "python",
   "name": "python3"
  },
  "language_info": {
   "codemirror_mode": {
    "name": "ipython",
    "version": 3
   },
   "file_extension": ".py",
   "mimetype": "text/x-python",
   "name": "python",
   "nbconvert_exporter": "python",
   "pygments_lexer": "ipython3",
   "version": "3.10.5"
  },
  "orig_nbformat": 4
 },
 "nbformat": 4,
 "nbformat_minor": 2
}
