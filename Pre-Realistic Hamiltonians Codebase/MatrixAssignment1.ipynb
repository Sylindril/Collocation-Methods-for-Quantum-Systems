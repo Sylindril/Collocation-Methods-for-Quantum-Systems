{
 "cells": [
  {
   "cell_type": "code",
   "execution_count": 22,
   "metadata": {},
   "outputs": [
    {
     "name": "stdout",
     "output_type": "stream",
     "text": [
      "Hello World\n"
     ]
    }
   ],
   "source": [
    "import numpy as np\n",
    "import scipy\n",
    "import matplotlib.pyplot as plt\n",
    "from minresScipy import *\n",
    "import math\n",
    "print(\"Hello World\")\n",
    "sigma_n = 10\n",
    "eta = 0.1\n",
    "maxit = 200000"
   ]
  },
  {
   "cell_type": "code",
   "execution_count": 23,
   "metadata": {},
   "outputs": [
    {
     "name": "stdout",
     "output_type": "stream",
     "text": [
      "(100, 100)\n"
     ]
    }
   ],
   "source": [
    "#Generating a random matrix\n",
    "np.random.seed(42)\n",
    "M = np.random.rand(100,100)\n",
    "\n",
    "#Making it symmetric\n",
    "A = M  + M.T\n",
    "print(A.shape)"
   ]
  },
  {
   "cell_type": "code",
   "execution_count": 24,
   "metadata": {},
   "outputs": [],
   "source": [
    "#Finding the eigenvalues and eigenvectors for the matrix and sorting them in ascending order\n",
    "eig = np.linalg.eigvals(A)\n",
    "idx = np.argsort(eig)\n",
    "eig = eig[idx]"
   ]
  },
  {
   "cell_type": "code",
   "execution_count": 25,
   "metadata": {},
   "outputs": [
    {
     "name": "stdout",
     "output_type": "stream",
     "text": [
      "[-7.66626301 -7.52653281 -7.38795919 -6.81578811 -6.44625297 -6.27392009\n",
      " -6.17304611 -6.03464896 -5.912434   -5.72710618]\n"
     ]
    }
   ],
   "source": [
    "print(eig[0:10])\n",
    "#Thus, the smallest eigenvalue is roughly - 8"
   ]
  },
  {
   "cell_type": "code",
   "execution_count": 26,
   "metadata": {},
   "outputs": [],
   "source": [
    "B = A + 8*np.eye(100,100)#Making a new, symmetric, positive eigenvalue matrix"
   ]
  },
  {
   "cell_type": "code",
   "execution_count": 27,
   "metadata": {},
   "outputs": [
    {
     "name": "stdout",
     "output_type": "stream",
     "text": [
      "(100,)\n"
     ]
    }
   ],
   "source": [
    "eigB = np.linalg.eigvals(B)\n",
    "idxB = np.argsort(eigB)\n",
    "eigB = eigB[idxB]\n",
    "print(eigB.shape)"
   ]
  },
  {
   "cell_type": "code",
   "execution_count": 28,
   "metadata": {},
   "outputs": [
    {
     "name": "stdout",
     "output_type": "stream",
     "text": [
      "[0.33373699 0.47346719 0.61204081 1.18421189 1.55374703 1.72607991\n",
      " 1.82695389 1.96535104 2.087566   2.27289382]\n",
      "[ 13.86220404  14.04737442  14.33009261  14.62702686  14.74964344\n",
      "  14.96476281  15.15227771  15.46541207  15.88436675 106.95921291]\n"
     ]
    }
   ],
   "source": [
    "#Thus, B has only positive eigenvalues and is symmetric\n",
    "print(eigB[0:10])\n",
    "print(eigB[90:])"
   ]
  },
  {
   "cell_type": "code",
   "execution_count": 29,
   "metadata": {},
   "outputs": [
    {
     "data": {
      "image/png": "[encoded data removed]",
      "text/plain": [
       "<Figure size 432x288 with 1 Axes>"
      ]
     },
     "metadata": {
      "needs_background": "light"
     },
     "output_type": "display_data"
    }
   ],
   "source": [
    "#There's a sudden spike In Eigenvalues, plotting it here\n",
    "plt.plot(eigB)\n",
    "plt.title(\"Magnitude of all eigenvalues\")\n",
    "plt.show()\n"
   ]
  },
  {
   "cell_type": "code",
   "execution_count": 30,
   "metadata": {},
   "outputs": [
    {
     "data": {
      "image/png": "[encoded data removed]",
      "text/plain": [
       "<Figure size 432x288 with 1 Axes>"
      ]
     },
     "metadata": {
      "needs_background": "light"
     },
     "output_type": "display_data"
    }
   ],
   "source": [
    "#Plotting without the last eigenvalue\n",
    "plt.plot(eigB[0:99])\n",
    "plt.title(\"Magnitude of all eigenvalues except the last (largest)\")\n",
    "plt.show()"
   ]
  },
  {
   "cell_type": "code",
   "execution_count": 31,
   "metadata": {},
   "outputs": [
    {
     "data": {
      "text/plain": [
       "array([0.33373699, 0.47346719, 0.61204081, 1.18421189, 1.55374703,\n",
       "       1.72607991, 1.82695389, 1.96535104, 2.087566  , 2.27289382])"
      ]
     },
     "execution_count": 31,
     "metadata": {},
     "output_type": "execute_result"
    }
   ],
   "source": [
    "eigB[:10]"
   ]
  },
  {
   "cell_type": "code",
   "execution_count": 32,
   "metadata": {},
   "outputs": [
    {
     "name": "stdout",
     "output_type": "stream",
     "text": [
      "[0.         0.22222222 0.44444444 0.66666667 0.88888889 1.11111111\n",
      " 1.33333333 1.55555556 1.77777778 2.        ]\n"
     ]
    }
   ],
   "source": [
    "#Picking sigma to be uniformly distributed between 3 and 11\n",
    "\n",
    "sigma = np.linspace(0,2,sigma_n )\n",
    "print(sigma)"
   ]
  },
  {
   "cell_type": "code",
   "execution_count": 33,
   "metadata": {},
   "outputs": [],
   "source": [
    "#Generate the random vector\n",
    "s = np.random.normal(0, 1, 100)\n",
    "\n",
    "norm=math.sqrt(sum(s*s))\n",
    "S=s/norm\n"
   ]
  },
  {
   "cell_type": "code",
   "execution_count": 34,
   "metadata": {},
   "outputs": [
    {
     "name": "stdout",
     "output_type": "stream",
     "text": [
      "For a symmetric matrix B\n"
     ]
    },
    {
     "name": "stdout",
     "output_type": "stream",
     "text": [
      "\n",
      "Sigma =  0.0\n",
      "Maximal difference between any component of Vi calculated by MINRES, and that calculated by the exact solver =  5.887340897778315e-09\n",
      "Smallest Component in V (exact) =  0.00015856367477746006\n",
      "Median Component by magnitude in V (exact) =  0.040948070424067534\n",
      "Exitcode =  0\n",
      "\n",
      "Sigma =  0.2222222222222222\n",
      "Maximal difference between any component of Vi calculated by MINRES, and that calculated by the exact solver =  1.7755889591963836e-08\n",
      "Smallest Component in V (exact) =  0.0010465256574451222\n",
      "Median Component by magnitude in V (exact) =  0.10974982947654939\n",
      "Exitcode =  0\n",
      "\n",
      "Sigma =  0.4444444444444444\n",
      "Maximal difference between any component of Vi calculated by MINRES, and that calculated by the exact solver =  1.3298183573762223e-07\n",
      "Smallest Component in V (exact) =  0.023617684925638205\n",
      "Median Component by magnitude in V (exact) =  0.3289624432644169\n",
      "Exitcode =  0\n",
      "\n",
      "Sigma =  0.6666666666666666\n",
      "Maximal difference between any component of Vi calculated by MINRES, and that calculated by the exact solver =  6.960300472091951e-08\n",
      "Smallest Component in V (exact) =  0.0025077955894368016\n",
      "Median Component by magnitude in V (exact) =  0.14045663785745577\n",
      "Exitcode =  0\n",
      "\n",
      "Sigma =  0.8888888888888888\n",
      "Maximal difference between any component of Vi calculated by MINRES, and that calculated by the exact solver =  3.959845232097414e-08\n",
      "Smallest Component in V (exact) =  0.0009600857815150361\n",
      "Median Component by magnitude in V (exact) =  0.05304619687706341\n",
      "Exitcode =  0\n",
      "\n",
      "Sigma =  1.1111111111111112\n",
      "Maximal difference between any component of Vi calculated by MINRES, and that calculated by the exact solver =  9.929888228083633e-08\n",
      "Smallest Component in V (exact) =  0.0030071698233799776\n",
      "Median Component by magnitude in V (exact) =  0.13249954386096519\n",
      "Exitcode =  0\n",
      "\n",
      "Sigma =  1.3333333333333333\n",
      "Maximal difference between any component of Vi calculated by MINRES, and that calculated by the exact solver =  1.821118160785784e-08\n",
      "Smallest Component in V (exact) =  0.0028657657976174714\n",
      "Median Component by magnitude in V (exact) =  0.0690309073604366\n",
      "Exitcode =  0\n",
      "\n",
      "Sigma =  1.5555555555555554\n",
      "Maximal difference between any component of Vi calculated by MINRES, and that calculated by the exact solver =  5.66516350677948e-07\n",
      "Smallest Component in V (exact) =  0.05406896663644341\n",
      "Median Component by magnitude in V (exact) =  1.857069262654841\n",
      "Exitcode =  0\n",
      "\n",
      "Sigma =  1.7777777777777777\n",
      "Maximal difference between any component of Vi calculated by MINRES, and that calculated by the exact solver =  3.8688396125641233e-08\n",
      "Smallest Component in V (exact) =  0.0008185966752476473\n",
      "Median Component by magnitude in V (exact) =  0.11943008767006652\n",
      "Exitcode =  0\n",
      "\n",
      "Sigma =  2.0\n",
      "Maximal difference between any component of Vi calculated by MINRES, and that calculated by the exact solver =  4.265621587895563e-08\n",
      "Smallest Component in V (exact) =  0.0005750099291189428\n",
      "Median Component by magnitude in V (exact) =  0.1561581016628091\n",
      "Exitcode =  0\n",
      "\n",
      "\n",
      "For an asymmetric matrix C\n",
      "\n",
      "Sigma =  0.0\n",
      "Maximal difference between any component of Vi calculated by MINRES, and that calculated by the exact solver =  2.5775115264359272e-08\n",
      "Smallest Component in V (exact) =  0.0004770039151429876\n",
      "Median Component by magnitude in V (exact) =  0.047107132640725934\n",
      "Exitcode =  0\n",
      "\n",
      "Sigma =  0.2222222222222222\n",
      "Maximal difference between any component of Vi calculated by MINRES, and that calculated by the exact solver =  4.3920024785204514e-05\n",
      "Smallest Component in V (exact) =  0.002157013097201739\n",
      "Median Component by magnitude in V (exact) =  0.15733683111608165\n",
      "Exitcode =  0\n",
      "\n",
      "Sigma =  0.4444444444444444\n",
      "Maximal difference between any component of Vi calculated by MINRES, and that calculated by the exact solver =  0.13413289559769648\n",
      "Smallest Component in V (exact) =  8.833908464384727e-05\n",
      "Median Component by magnitude in V (exact) =  0.22005758266910258\n",
      "Exitcode =  0\n",
      "\n",
      "Sigma =  0.6666666666666666\n",
      "Maximal difference between any component of Vi calculated by MINRES, and that calculated by the exact solver =  0.0005419898655429911\n",
      "Smallest Component in V (exact) =  0.00262170546587491\n",
      "Median Component by magnitude in V (exact) =  0.15667650366484676\n",
      "Exitcode =  0\n",
      "\n",
      "Sigma =  0.8888888888888888\n",
      "Maximal difference between any component of Vi calculated by MINRES, and that calculated by the exact solver =  1.2633057950212079e-05\n",
      "Smallest Component in V (exact) =  0.0002723340177252908\n",
      "Median Component by magnitude in V (exact) =  0.048118542021637956\n",
      "Exitcode =  0\n",
      "\n",
      "Sigma =  1.1111111111111112\n",
      "Maximal difference between any component of Vi calculated by MINRES, and that calculated by the exact solver =  0.0025262663709273436\n",
      "Smallest Component in V (exact) =  0.0024527199006072684\n",
      "Median Component by magnitude in V (exact) =  0.10721185989489768\n",
      "Exitcode =  0\n",
      "\n",
      "Sigma =  1.3333333333333333\n",
      "Maximal difference between any component of Vi calculated by MINRES, and that calculated by the exact solver =  0.0017044859969656267\n",
      "Smallest Component in V (exact) =  2.401368898499734e-05\n",
      "Median Component by magnitude in V (exact) =  0.07364752813320291\n",
      "Exitcode =  0\n",
      "\n",
      "Sigma =  1.5555555555555554\n",
      "Maximal difference between any component of Vi calculated by MINRES, and that calculated by the exact solver =  0.5987995627365874\n",
      "Smallest Component in V (exact) =  0.003575295049279781\n",
      "Median Component by magnitude in V (exact) =  0.1903811996149632\n",
      "Exitcode =  0\n",
      "\n",
      "Sigma =  1.7777777777777777\n",
      "Maximal difference between any component of Vi calculated by MINRES, and that calculated by the exact solver =  2.3560712276565696\n",
      "Smallest Component in V (exact) =  0.0010175054306075654\n",
      "Median Component by magnitude in V (exact) =  0.8708509533804276\n",
      "Exitcode =  0\n",
      "\n",
      "Sigma =  2.0\n",
      "Maximal difference between any component of Vi calculated by MINRES, and that calculated by the exact solver =  0.04490430494610542\n",
      "Smallest Component in V (exact) =  0.0022187860719076885\n",
      "Median Component by magnitude in V (exact) =  0.13296125844115259\n",
      "Exitcode =  0\n"
     ]
    }
   ],
   "source": [
    "#Creating Vi\n",
    "print(\"For a symmetric matrix B\")\n",
    "\n",
    "V = np.zeros((sigma_n,100))\n",
    "V_minres = np.zeros((sigma_n,100))\n",
    "for i in range(sigma_n):\n",
    "    V[i] = np.dot(np.linalg.inv(sigma[i]*np.eye(100) - B),S)\n",
    "    V_minres[i], exitcode = minres((sigma[i]*np.eye(100) - B), S, maxiter = maxit, tol = np.float32(1e-9))\n",
    "    \n",
    "for i in range(sigma_n):\n",
    "    print(\"\\nSigma = \", sigma[i])\n",
    "    print(\"Maximal difference between any component of Vi calculated by MINRES, and that calculated by the exact solver = \", max(abs(V_minres[i] - V[i])))\n",
    "    print(\"Smallest Component in V (exact) = \", min(abs(V[i])))\n",
    "    print(\"Median Component by magnitude in V (exact) = \", np.median(np.sort(abs(V[i]))))\n",
    "    print(\"Exitcode = \", exitcode)\n",
    "\n",
    "print(\"\\n\\nFor an asymmetric matrix C\")\n",
    "\n",
    "del_B = np.random.rand(100,100)\n",
    "\n",
    "C = B + eta*del_B\n",
    "V = np.zeros((sigma_n,100))\n",
    "\n",
    "eigC = np.linalg.eigvals(C)\n",
    "idxC = np.argsort(eigC)\n",
    "eigC = eigC[idxC]\n",
    "\n",
    "\n",
    "V_minres = np.zeros((sigma_n,100))\n",
    "for i in range(sigma_n):\n",
    "    V[i] = np.dot(np.linalg.inv(sigma[i]*np.eye(100) - C),S)\n",
    "    V_minres[i], exitcode = minres((sigma[i]*np.eye(100) - C), S, maxiter = maxit, tol = np.float32(1e-9))\n",
    "    \n",
    "for i in range(sigma_n):\n",
    "    print(\"\\nSigma = \", sigma[i])\n",
    "    print(\"Maximal difference between any component of Vi calculated by MINRES, and that calculated by the exact solver = \", max(abs(V_minres[i] - V[i])))\n",
    "    print(\"Smallest Component in V (exact) = \", min(abs(V[i])))\n",
    "    print(\"Median Component by magnitude in V (exact) = \", np.median(np.sort(abs(V[i]))))\n",
    "    print(\"Exitcode = \", exitcode)\n",
    "\n",
    "# V_minres = np.zeros((5,100))\n",
    "# for i in range(5):\n",
    "#     V_minres[i] = minres(sigma[i]*np.eye(100) - B,S)\n",
    "\n",
    "\n",
    "# print(V_minres.shape)\n",
    "\n",
    "\n"
   ]
  },
  {
   "cell_type": "code",
   "execution_count": 35,
   "metadata": {},
   "outputs": [
    {
     "name": "stdout",
     "output_type": "stream",
     "text": [
      "Sigma =  0.2222222222222222\n",
      "\n",
      "Vi by exact solver =  [ 0.16126878 -0.06234781 -0.12720765  0.25474769  0.40284752 -0.22552972\n",
      " -0.01617167  0.41263995 -0.31391133 -0.02008534 -0.27627839  0.18255295\n",
      "  0.02850538  0.25179014  0.39430684  0.03977948  0.05766824 -0.16817878\n",
      "  0.37192447 -0.17575988 -0.06685139 -0.0572278  -0.02285757 -0.26528678\n",
      "  0.12551913 -0.34006024  0.53781321 -0.14969102  0.01243866  0.3043448\n",
      " -0.06424481  0.06275165  0.29904565  0.09495903 -0.11432686 -0.16706634\n",
      "  0.18894773 -0.36664427 -0.21545644 -0.29649132  0.32238506  0.41503777\n",
      " -0.19831763 -0.1054609  -0.30150714  0.09843952  0.21108022 -0.14613298\n",
      " -0.3323876   0.09690394  0.00215701  0.22166332 -0.32030946  0.12843586\n",
      "  0.22834461  0.12651643 -0.0061168  -0.19993781 -0.0580715  -0.05673657\n",
      "  0.00921222  0.15523941  0.44671121 -0.28603937 -0.35402913  0.07120581\n",
      " -0.05306144 -0.2340756   0.31800697 -0.09266248  0.11776324  0.09325651\n",
      " -0.05588566  0.15943426 -0.1541555   0.06317684 -0.11124314  0.05223789\n",
      "  0.01936023  0.08930935 -0.07535327  0.12850202 -0.24085954  0.01480119\n",
      "  0.22260328  0.13343977  0.33241156 -0.0850277  -0.54674524  0.07128352\n",
      "  0.16721602 -0.04257149  0.0513846  -0.16545006  0.02838406 -0.34049871\n",
      " -0.22655655  0.16497755 -0.46923512 -0.21571871]\n",
      "\n",
      "Vi by MINRES =  [ 0.16124941 -0.0623589  -0.12722943  0.25477179  0.40284536 -0.22555729\n",
      " -0.01619151  0.41266362 -0.31389064 -0.02004476 -0.27628292  0.18259687\n",
      "  0.02850048  0.25177728  0.39428708  0.03974675  0.05767238 -0.16818129\n",
      "  0.37194557 -0.17574466 -0.06684827 -0.05724453 -0.0228797  -0.26529299\n",
      "  0.12550328 -0.34008222  0.53780153 -0.14969406  0.01243717  0.30436754\n",
      " -0.06423137  0.06275273  0.29904521  0.09496043 -0.11429107 -0.16704388\n",
      "  0.18894923 -0.36665066 -0.21547223 -0.29648895  0.32239768  0.41504439\n",
      " -0.19829008 -0.10547697 -0.3014973   0.09846456  0.21110092 -0.14614639\n",
      " -0.33240582  0.09689061  0.00214041  0.22165948 -0.32028161  0.12843837\n",
      "  0.22836459  0.12650776 -0.00610583 -0.19994578 -0.0581091  -0.05674513\n",
      "  0.00922597  0.15527007  0.4467323  -0.28604429 -0.35405648  0.07117704\n",
      " -0.05305923 -0.23407728  0.31801526 -0.09269388  0.11776682  0.0932258\n",
      " -0.05586858  0.15945431 -0.15416289  0.06318923 -0.11124015  0.05225972\n",
      "  0.01935384  0.08930269 -0.07535887  0.12851296 -0.24083625  0.01478029\n",
      "  0.22259054  0.13341301  0.33242406 -0.08500967 -0.54672858  0.07125879\n",
      "  0.16720357 -0.04257347  0.0513624  -0.1654616   0.02839752 -0.34048339\n",
      " -0.22655363  0.16496532 -0.46922906 -0.21570337]\n",
      "\n",
      "The Vi(regular) - Vi(MINRES) =  [ 1.93697735e-05  1.10868126e-05  2.17753308e-05 -2.41054060e-05\n",
      "  2.16254371e-06  2.75785626e-05  1.98360433e-05 -2.36680873e-05\n",
      " -2.06901585e-05 -4.05855567e-05  4.52332745e-06 -4.39200248e-05\n",
      "  4.90624124e-06  1.28567631e-05  1.97530460e-05  3.27341559e-05\n",
      " -4.14195642e-06  2.51147082e-06 -2.11062672e-05 -1.52271240e-05\n",
      " -3.11471150e-06  1.67216682e-05  2.21246622e-05  6.21159060e-06\n",
      "  1.58567549e-05  2.19761885e-05  1.16826719e-05  3.04174855e-06\n",
      "  1.49472051e-06 -2.27467515e-05 -1.34453886e-05 -1.07920260e-06\n",
      "  4.44670134e-07 -1.40652712e-06 -3.57912696e-05 -2.24643454e-05\n",
      " -1.49528026e-06  6.39211286e-06  1.57910961e-05 -2.37927993e-06\n",
      " -1.26208722e-05 -6.62355076e-06 -2.75442991e-05  1.60690616e-05\n",
      " -9.84218736e-06 -2.50440473e-05 -2.06974345e-05  1.34068255e-05\n",
      "  1.82169020e-05  1.33260151e-05  1.66032039e-05  3.84394965e-06\n",
      " -2.78568935e-05 -2.51034413e-06 -1.99814524e-05  8.66872284e-06\n",
      " -1.09712313e-05  7.96841383e-06  3.76019282e-05  8.55482853e-06\n",
      " -1.37527216e-05 -3.06662343e-05 -2.10988667e-05  4.91690848e-06\n",
      "  2.73487284e-05  2.87671963e-05 -2.20591358e-06  1.67210651e-06\n",
      " -8.28710440e-06  3.14009571e-05 -3.57965955e-06  3.07116302e-05\n",
      " -1.70828911e-05 -2.00574306e-05  7.39423973e-06 -1.23959772e-05\n",
      " -2.98791433e-06 -2.18313341e-05  6.38603513e-06  6.66175070e-06\n",
      "  5.60052227e-06 -1.09404419e-05 -2.32962516e-05  2.09033639e-05\n",
      "  1.27331835e-05  2.67567704e-05 -1.24973563e-05 -1.80324458e-05\n",
      " -1.66616815e-05  2.47349554e-05  1.24521487e-05  1.97211293e-06\n",
      "  2.22000801e-05  1.15411597e-05 -1.34584216e-05 -1.53218743e-05\n",
      " -2.92599308e-06  1.22265623e-05 -6.06086408e-06 -1.53404405e-05]\n"
     ]
    }
   ],
   "source": [
    "print(\"Sigma = \", sigma[1])\n",
    "print(\"\\nVi by exact solver = \", V[1])\n",
    "print(\"\\nVi by MINRES = \", V_minres[1])\n",
    "print(\"\\nThe Vi(regular) - Vi(MINRES) = \", V[1] - V_minres[1])"
   ]
  },
  {
   "cell_type": "code",
   "execution_count": 36,
   "metadata": {},
   "outputs": [
    {
     "name": "stdout",
     "output_type": "stream",
     "text": [
      "(10, 10)\n",
      "(10, 10)\n"
     ]
    }
   ],
   "source": [
    "#Creating the H and S matrices\n",
    "Hmatrix = np.ones((sigma_n,sigma_n))\n",
    "Smatrix = np.ones((sigma_n,sigma_n))\n",
    "\n",
    "Hmatrix_minres = np.ones((sigma_n,sigma_n))\n",
    "Smatrix_minres = np.ones((sigma_n,sigma_n))\n",
    "\n",
    "matrix = C\n",
    "\n",
    "for i in range(sigma_n):\n",
    "    for j in range(sigma_n):\n",
    "        Hmatrix[i,j]= np.dot(V[i],np.dot(matrix,V[j]))\n",
    "        Hmatrix_minres[i,j]= np.dot(V_minres[i],np.dot(matrix,V_minres[j]))\n",
    "        Smatrix[i,j] = np.dot(V[i],V[j])\n",
    "        Smatrix_minres[i,j] = np.dot(V_minres[i],V_minres[j])\n",
    "\n",
    "\n",
    "print(Hmatrix.shape)\n",
    "print(Smatrix.shape) \n",
    "     "
   ]
  },
  {
   "cell_type": "code",
   "execution_count": 37,
   "metadata": {},
   "outputs": [
    {
     "name": "stdout",
     "output_type": "stream",
     "text": [
      "The sigma values are -  [0.         0.22222222 0.44444444 0.66666667 0.88888889 1.11111111\n",
      " 1.33333333 1.55555556 1.77777778 2.        ]\n",
      "Exact Solver : Solved eigenvalues -  [-7.63360601e+02 -1.70112389e+00  3.28318164e-01  4.85436364e-01\n",
      "  6.56383958e-01  1.20829610e+00  1.56798856e+00  1.80282402e+00\n",
      "  1.96046844e+00  5.09201512e+00]\n",
      "MINRES : Solved eigenvalues -  [-5.42547768e+02 -7.51695927e+00  3.18938681e-01  4.74594222e-01\n",
      "  6.33647846e-01  1.20125734e+00  1.57718542e+00  1.79987555e+00\n",
      "  1.96197825e+00  5.04468096e+00]\n",
      "Std. Solver's e-values - MINRES e-values =  [-2.20812832e+02  5.81583538e+00  9.37948246e-03  1.08421416e-02\n",
      "  2.27361122e-02  7.03875996e-03 -9.19685835e-03  2.94847646e-03\n",
      " -1.50981763e-03  4.73341641e-02]\n",
      "The Matrix C's eigenvalues between 0 to 2 are :  [0.30600681+0.j 0.47116611+0.j 0.62145712+0.j 1.20037851+0.j\n",
      " 1.56333869+0.j 1.78680822+0.j 1.80685972+0.j 1.9473276 +0.j]\n"
     ]
    }
   ],
   "source": [
    "eigvals, eigvecs = scipy.linalg.eigh(Hmatrix, b = Smatrix,eigvals_only=False)\n",
    "eigvals_minres, eigvecs_minres = scipy.linalg.eigh(Hmatrix_minres, b = Smatrix_minres,eigvals_only=False)\n",
    "print(\"The sigma values are - \", sigma)\n",
    "print(\"Exact Solver : Solved eigenvalues - \", eigvals)\n",
    "print(\"MINRES : Solved eigenvalues - \", eigvals_minres)\n",
    "print(\"Std. Solver's e-values - MINRES e-values = \", eigvals - eigvals_minres)\n",
    "#print(\"The Symmetric Matrix B's eigenvalues between 0 to 2 are : \", eigB[:8])\n",
    "print(\"The Matrix C's eigenvalues between 0 to 2 are : \", eigC[:8])\n",
    "#eigvalMINRES, exitcode = minres(Hmatrix, Smatrix)\n"
   ]
  },
  {
   "cell_type": "code",
   "execution_count": null,
   "metadata": {},
   "outputs": [],
   "source": []
  },
  {
   "cell_type": "code",
   "execution_count": 38,
   "metadata": {},
   "outputs": [
    {
     "name": "stdout",
     "output_type": "stream",
     "text": [
      "Eigenvalues from Filter Diagonalization:  [-7.63360601e+02 -1.70112389e+00  3.28318164e-01  4.85436364e-01\n",
      "  6.56383958e-01  1.20829610e+00  1.56798856e+00  1.80282402e+00\n",
      "  1.96046844e+00  5.09201512e+00]\n",
      "Sigma values:  [0.         0.22222222 0.44444444 0.66666667 0.88888889 1.11111111\n",
      " 1.33333333 1.55555556 1.77777778 2.        ]\n"
     ]
    }
   ],
   "source": [
    "print(\"Eigenvalues from Filter Diagonalization: \", eigvals)\n",
    "print(\"Sigma values: \", sigma)\n",
    "#print(\"Eigenvalues from MINRES: \", eigvalMINRES)"
   ]
  },
  {
   "cell_type": "code",
   "execution_count": 39,
   "metadata": {},
   "outputs": [
    {
     "name": "stdout",
     "output_type": "stream",
     "text": [
      "[  0.33373699   0.47346719   0.61204081   1.18421189   1.55374703\n",
      "   1.72607991   1.82695389   1.96535104   2.087566     2.27289382\n",
      "   2.47037955   2.70279968   2.89906721   3.09994535   3.18396476\n",
      "   3.28895796   3.44306808   3.69624048   3.85397625   3.97047676\n",
      "   4.10644121   4.23291561   4.4127341    4.45099383   4.69455336\n",
      "   4.84833717   4.89845029   4.92050006   5.18707219   5.44006348\n",
      "   5.62351793   5.65888651   5.73612137   5.79277473   5.983739\n",
      "   6.0760327    6.29615149   6.30593053   6.40145332   6.64825272\n",
      "   6.72824906   6.82714703   6.98807567   7.02059394   7.14289086\n",
      "   7.45342345   7.56423316   7.62769136   7.71984976   7.92988824\n",
      "   8.00133811   8.16581597   8.29038058   8.40728253   8.45628233\n",
      "   8.75517906   8.82800237   8.94413846   9.25219233   9.38643532\n",
      "   9.45017536   9.63324972   9.6854013    9.72742607   9.82057737\n",
      "  10.01647138  10.20397175  10.3186491   10.52356925  10.64927935\n",
      "  10.82906055  10.96374702  11.2102789   11.38658649  11.45616698\n",
      "  11.5032859   11.62728882  11.64634678  11.893221    12.02420921\n",
      "  12.20441856  12.26915693  12.48548413  12.68444679  12.97748798\n",
      "  12.99129159  13.24511379  13.40550236  13.53289884  13.60254144\n",
      "  13.86220404  14.04737442  14.33009261  14.62702686  14.74964344\n",
      "  14.96476281  15.15227771  15.46541207  15.88436675 106.95921291]\n"
     ]
    }
   ],
   "source": [
    "print(eigB)\n",
    "#List of all eigenvalues of the matrix"
   ]
  },
  {
   "cell_type": "markdown",
   "metadata": {},
   "source": [
    "## Using MINRES  \n",
    "M is a symmetric 100x100 matrix with positive eigenvalues  \n",
    "$v_i = (\\sigma _iI - M)^{-1}s -$   where s is the arbitrary starting vector  \n",
    "$H_{ij} = v_i^TMv_j$  \n",
    "$S_{ij} = v_i^Tv_j$  \n",
    "$Hv = \\lambda Sv$  \n",
    "$S^{-1}Hv = \\lambda v$  \n",
    "Cases:\n",
    "##### M is symmetric\n",
    "1. v is an arbitrary vector\n",
    "2. v is an eigenvector of the 100x100 symmetric matrix, outside the window of sigma value\n",
    "3. v is an eigenvector of the 100x100 symmetric matrix, with the eigenvector corresponding to an eigenvalue near to one of the sigma's\n",
    "\n",
    "All this will yield $\\lambda$\n",
    "\n",
    "##### M is asymmetric\n",
    "Repeat the above"
   ]
  },
  {
   "cell_type": "code",
   "execution_count": 40,
   "metadata": {},
   "outputs": [],
   "source": [
    "# #M is symmetric\n",
    "\n",
    "# #v is a random vector\n",
    "# v = np.random.rand(sigma_n)\n",
    "# v = v/np.linalg.norm(v)\n",
    "# eigvalMINRES, exitcode = minres((np.matmul(np.linalg.inv(Smatrix), Hmatrix)), v)\n",
    "# print(\"\\nv is a random vector\\n\")\n",
    "# print(\"The x solved for by MINRES - \", eigvalMINRES)\n",
    "# print(\"The random vector b chosen for Ax = b in MINRES - \", v)\n",
    "# print(\"The x solved by MINRES divided element wise by b - \", eigvalMINRES/v)\n",
    "# print(\"Exitcode for MINRES - \", exitcode)\n",
    "\n",
    "# #v is an eigenvector of (H,S)\n",
    "# print(\"\\n v is an eigenvector of the generalized equation involvong H and S\\n\")\n",
    "# eigvals, eigvecs = scipy.linalg.eigh(Hmatrix, b = Smatrix,eigvals_only=False)\n",
    "# v = eigvecs[2]\n",
    "\n",
    "# eigvalMINRES, exitcode = minres((np.matmul(np.linalg.inv(Smatrix), Hmatrix)), v)\n",
    "\n",
    "# print(\"The x solved for by MINRES - \", eigvalMINRES)\n",
    "# print(\"The eigenvector chosen as b for Ax = b in MINRES - \", v)\n",
    "# print(\"The corresponding eigenvalue for this eigenvector = \", eigvals[2])\n",
    "# print(\"The corresponding sigma value - \", sigma[2])\n",
    "# print(\"The x solved by MINRES divided element wise by b - \", eigvalMINRES/v)\n",
    "\n",
    "# print(\"Exitcode for MINRES - \", exitcode)\n",
    "\n",
    "\n"
   ]
  },
  {
   "cell_type": "code",
   "execution_count": 41,
   "metadata": {},
   "outputs": [],
   "source": [
    "# # M has a slight asymmetry\n",
    "# del_B = np.random.rand(100,100)\n",
    "# eta = 0.01\n",
    "# C = B + eta*del_B\n",
    "# eigC = np.linalg.eigvals(C)\n",
    "# idxC = np.argsort(eigC)\n",
    "# eigC = eigC[idxC]\n",
    "# print(\"The smallest eigenvectors in the matrix after adding a small asymmetric perturbation\", eigC[:10])\n",
    "# # we have verified that the smallest eigenvalue is real, and positive\n",
    "\n",
    "# #Npw, build the H and S matrices for this\n",
    "# #Initialize the starting vector\n",
    "# s = np.random.normal(0, 1, 100)\n",
    "\n",
    "# norm=math.sqrt(sum(s*s))\n",
    "# S=s/norm\n",
    "\n",
    "\n",
    "# #Creating Vi\n",
    "# V = np.zeros((sigma_n,100))\n",
    "# for i in range(sigma_n):\n",
    "#     V[i] = np.dot(np.linalg.inv(sigma[i]*np.eye(100) - C),S)\n",
    "\n",
    "# print(\"V calculated\")\n",
    "\n",
    "# #Creating the H and S matrices\n",
    "# Hmatrix = np.ones((sigma_n,sigma_n))\n",
    "# Smatrix = np.ones((sigma_n,sigma_n))\n",
    "\n",
    "# for i in range(sigma_n):\n",
    "#     for j in range(sigma_n):\n",
    "#         Hmatrix[i,j]= np.dot(V[i],np.dot(B,V[j]))\n",
    "#         Smatrix[i,j] = np.dot(V[i],V[j])\n",
    "\n",
    "# print(\"H matrix calculated\")\n",
    "# print(\"S matrix calculated\\n\")\n",
    "\n",
    "# #M is asymmetric\n",
    "\n",
    "# #v is a random vector\n",
    "# v = np.random.rand(sigma_n)\n",
    "# v = v/np.linalg.norm(v)\n",
    "# eigvalMINRES, exitcode = minres((np.matmul(np.linalg.inv(Smatrix), Hmatrix)), v)\n",
    "# print(\"\\nv is a random vector\\n\")\n",
    "# print(\"The x solved for by MINRES - \", eigvalMINRES)\n",
    "# print(\"The random vector b chosen for Ax = b in MINRES - \", v)\n",
    "# print(\"The x solved by MINRES divided element wise by b - \", eigvalMINRES/v)\n",
    "# print(\"Exitcode for MINRES - \", exitcode)\n",
    "\n",
    "# #v is an eigenvector of (H,S)\n",
    "# print(\"\\nv is an eigenvector of the generalized equation involvong H and S\\n\")\n",
    "# eigvals, eigvecs = scipy.linalg.eigh(Hmatrix, b = Smatrix,eigvals_only=False)\n",
    "# v = eigvecs[2]\n",
    "\n",
    "# eigvalMINRES, exitcode = minres((np.matmul(np.linalg.inv(Smatrix), Hmatrix)), v)\n",
    "# print(\"The x solved for by MINRES - \", eigvalMINRES)\n",
    "# print(\"The eigenvector chosen as b for Ax = b in MINRES - \", v)\n",
    "# print(\"The corresponding eigenvalue for this eigenvector = \", eigvals[2])\n",
    "# print(\"The corresponding sigma value - \", sigma[2])\n",
    "# print(\"The x solved by MINRES divided element wise by b - \", eigvalMINRES/v)\n",
    "\n",
    "# print(\"Exitcode for MINRES - \", exitcode)\n"
   ]
  },
  {
   "attachments": {},
   "cell_type": "markdown",
   "metadata": {},
   "source": [
    "## Conclusions\n",
    "#### Nature of Convergence\n",
    "* The algorithm appears to generate eigenvalues of the symmetric positive eigenvalue matrix. How do I minimize the computational error?\n",
    "* One of the sigma's was 6.5, and the closest eigenvalue was 6.476, but the algorithm seemed to converge towards not the next (6.42), but the 3rd closest eigenvalue - 6.59, and terminated at 6.54. Why?\n",
    "* A probable reason for the above is that nearby eigenvalues seems to confuse the algo a bit; in other cases, wherein closest eigenvalues to each sigma value were quite far apart, the FD algorithm correctly picked the nearest eigenvalue to converge at\n",
    "* VERY COOL - I've begun to appreciate what the work will lead to.\n",
    "\n",
    "#### Odd eigenvalue\n",
    "Surprisingly the last eigenvalue was much larger than expected, as the values of the previous 99 seemed to increase smoothly. What factors can cause such sudden spikes in eigenvalue magnitude?"
   ]
  },
  {
   "cell_type": "code",
   "execution_count": 42,
   "metadata": {},
   "outputs": [
    {
     "name": "stdout",
     "output_type": "stream",
     "text": [
      "[0.30600681+0.j 0.47116611+0.j 0.62145712+0.j 1.20037851+0.j\n",
      " 1.56333869+0.j 1.78680822+0.j 1.80685972+0.j 1.9473276 +0.j\n",
      " 2.12611284+0.j 2.31197843+0.j]\n"
     ]
    }
   ],
   "source": [
    "print(eigC[:10])"
   ]
  },
  {
   "attachments": {},
   "cell_type": "markdown",
   "metadata": {},
   "source": []
  }
 ],
 "metadata": {
  "kernelspec": {
   "display_name": "Python 3",
   "language": "python",
   "name": "python3"
  },
  "language_info": {
   "codemirror_mode": {
    "name": "ipython",
    "version": 3
   },
   "file_extension": ".py",
   "mimetype": "text/x-python",
   "name": "python",
   "nbconvert_exporter": "python",
   "pygments_lexer": "ipython3",
   "version": "3.10.5"
  },
  "orig_nbformat": 4
 },
 "nbformat": 4,
 "nbformat_minor": 2
}
