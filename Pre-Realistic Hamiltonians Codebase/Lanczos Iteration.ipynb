{
 "cells": [
  {
   "cell_type": "code",
   "execution_count": 1,
   "id": "337226ed-0dc3-4006-b1da-d7920fc58cc7",
   "metadata": {},
   "outputs": [],
   "source": [
    "# Data Analysis\n",
    "import numpy as np \n",
    "from numpy import linalg as LA\n",
    "\n",
    "# Data Visualization\n",
    "import matplotlib.pyplot as plt\n",
    "import seaborn as sns\n",
    "sns.set()\n",
    "sns.set_style('darkgrid')"
   ]
  },
  {
   "cell_type": "code",
   "execution_count": 2,
   "id": "36094ded-54a8-45b1-8c54-52e85a1a248f",
   "metadata": {},
   "outputs": [
    {
     "name": "stdout",
     "output_type": "stream",
     "text": [
      "Hello World\n"
     ]
    }
   ],
   "source": [
    "print(\"Hello World\")"
   ]
  },
  {
   "cell_type": "code",
   "execution_count": 32,
   "id": "41ff9b82",
   "metadata": {},
   "outputs": [],
   "source": [
    "def tridiag(a, b, c, k1 = -1, k2 = 0, k3 = 1):\n",
    "    return np.diag(a, k1) + np.diag(b, k2) + np.diag(c,k3)\n",
    "\n",
    "#Lanczos Iteration\n",
    "def lanczos(A, x0, m):\n",
    "    np.set_printoptions(precision=3, suppress=True) \n",
    "    q0 = 0\n",
    "    b0 = 0\n",
    "    b_temp = 0\n",
    "    q1 = x0/np.linalg.norm(x0)\n",
    "    a = []\n",
    "    b = []\n",
    "    Q = [q1]\n",
    "\n",
    "    for k in range(m):\n",
    "        w = np.dot(A,q1)\n",
    "        a_temp = np.dot(q1.T,w)\n",
    "        w = w - b_temp*q0 - a_temp*q1\n",
    "        b_temp = np.linalg.norm(w)\n",
    "        q0 = q1\n",
    "        q1 = w/b_temp\n",
    "        a.append(np.linalg.norm(a_temp))\n",
    "        b.append(b_temp)\n",
    "        Q.append(q1)\n",
    "    \n",
    "    b.pop()\n",
    "\n",
    "    return tridiag(b,a,b), Q\n",
    "\n",
    "\n",
    "        \n",
    "\n"
   ]
  },
  {
   "cell_type": "code",
   "execution_count": 33,
   "id": "d8e87eb5",
   "metadata": {},
   "outputs": [
    {
     "name": "stdout",
     "output_type": "stream",
     "text": [
      "Tridiagonalization of A: \n",
      "[[16668.333 37267.054     0.   ]\n",
      " [37267.054 83333.667     3.464]\n",
      " [    0.        3.464     2.   ]]\n",
      "\n",
      "Associated eigenvalues: \n",
      "[100000.         3.414      0.586]\n",
      "\n",
      "Associated eigenvectors: \n",
      "[[ 0.408 -0.646  0.645]\n",
      " [ 0.913  0.289 -0.289]\n",
      " [ 0.     0.707  0.707]]\n",
      "[array([0.408, 0.408, 0.408, 0.408, 0.408, 0.408]), array([-0.183, -0.183, -0.183, -0.183, -0.183,  0.913]), array([ 0.632,  0.316, -0.   , -0.316, -0.632,  0.   ]), array([-0.535,  0.267,  0.535,  0.267, -0.535, -0.   ])]\n"
     ]
    }
   ],
   "source": [
    "#Testing\n",
    "A = np.diag([0,1,2,3,4,100000])\n",
    "n = A.shape[1]\n",
    "v_0 = np.zeros(n)\n",
    "v_0.fill(1.)\n",
    "v = v_0 / np.linalg.norm(v_0)\n",
    "\n",
    "# Obtaining the tri-diagonal matrix T\n",
    "T , Q = lanczos(A, v, m = 3)\n",
    "print(f'Tridiagonalization of A: \\n{T}')\n",
    "\n",
    "# Finding the eigenvalues w and eigenvectors v of the tri-diagonal matrix\n",
    "w, v = LA.eig(T)\n",
    "print(f'\\nAssociated eigenvalues: \\n{w}')\n",
    "print(f'\\nAssociated eigenvectors: \\n{v}')\n",
    "print(Q)\n"
   ]
  },
  {
   "cell_type": "code",
   "execution_count": null,
   "id": "a876b8d9",
   "metadata": {},
   "outputs": [],
   "source": [
    "def MINRES(A, b, x0, m, tol = 10^-6 , maxiter=1000):\n",
    "    iter = 1\n",
    "\n",
    "    while iter <= maxiter:\n",
    "        r = b - np.dot(A, x0)\n",
    "        \n",
    "\n"
   ]
  }
 ],
 "metadata": {
  "kernelspec": {
   "display_name": "Python 3 (ipykernel)",
   "language": "python",
   "name": "python3"
  },
  "language_info": {
   "codemirror_mode": {
    "name": "ipython",
    "version": 3
   },
   "file_extension": ".py",
   "mimetype": "text/x-python",
   "name": "python",
   "nbconvert_exporter": "python",
   "pygments_lexer": "ipython3",
   "version": "3.10.5"
  }
 },
 "nbformat": 4,
 "nbformat_minor": 5
}
